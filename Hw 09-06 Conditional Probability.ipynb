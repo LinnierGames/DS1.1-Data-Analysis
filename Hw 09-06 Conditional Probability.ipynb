{
 "cells": [
  {
   "cell_type": "code",
   "execution_count": 2,
   "metadata": {},
   "outputs": [],
   "source": [
    "import pandas as pd\n",
    "\n",
    "df = pd.read_csv('datasets/titanic.csv')"
   ]
  },
  {
   "cell_type": "code",
   "execution_count": 3,
   "metadata": {},
   "outputs": [
    {
     "data": {
      "text/html": [
       "<div>\n",
       "<style scoped>\n",
       "    .dataframe tbody tr th:only-of-type {\n",
       "        vertical-align: middle;\n",
       "    }\n",
       "\n",
       "    .dataframe tbody tr th {\n",
       "        vertical-align: top;\n",
       "    }\n",
       "\n",
       "    .dataframe thead th {\n",
       "        text-align: right;\n",
       "    }\n",
       "</style>\n",
       "<table border=\"1\" class=\"dataframe\">\n",
       "  <thead>\n",
       "    <tr style=\"text-align: right;\">\n",
       "      <th></th>\n",
       "      <th>PassengerId</th>\n",
       "      <th>Survived</th>\n",
       "      <th>Pclass</th>\n",
       "      <th>Name</th>\n",
       "      <th>Sex</th>\n",
       "      <th>Age</th>\n",
       "      <th>SibSp</th>\n",
       "      <th>Parch</th>\n",
       "      <th>Ticket</th>\n",
       "      <th>Fare</th>\n",
       "      <th>Cabin</th>\n",
       "      <th>Embarked</th>\n",
       "    </tr>\n",
       "  </thead>\n",
       "  <tbody>\n",
       "    <tr>\n",
       "      <th>0</th>\n",
       "      <td>1</td>\n",
       "      <td>0</td>\n",
       "      <td>3</td>\n",
       "      <td>Braund, Mr. Owen Harris</td>\n",
       "      <td>male</td>\n",
       "      <td>22.0</td>\n",
       "      <td>1</td>\n",
       "      <td>0</td>\n",
       "      <td>A/5 21171</td>\n",
       "      <td>7.2500</td>\n",
       "      <td>NaN</td>\n",
       "      <td>S</td>\n",
       "    </tr>\n",
       "    <tr>\n",
       "      <th>1</th>\n",
       "      <td>2</td>\n",
       "      <td>1</td>\n",
       "      <td>1</td>\n",
       "      <td>Cumings, Mrs. John Bradley (Florence Briggs Th...</td>\n",
       "      <td>female</td>\n",
       "      <td>38.0</td>\n",
       "      <td>1</td>\n",
       "      <td>0</td>\n",
       "      <td>PC 17599</td>\n",
       "      <td>71.2833</td>\n",
       "      <td>C85</td>\n",
       "      <td>C</td>\n",
       "    </tr>\n",
       "    <tr>\n",
       "      <th>2</th>\n",
       "      <td>3</td>\n",
       "      <td>1</td>\n",
       "      <td>3</td>\n",
       "      <td>Heikkinen, Miss. Laina</td>\n",
       "      <td>female</td>\n",
       "      <td>26.0</td>\n",
       "      <td>0</td>\n",
       "      <td>0</td>\n",
       "      <td>STON/O2. 3101282</td>\n",
       "      <td>7.9250</td>\n",
       "      <td>NaN</td>\n",
       "      <td>S</td>\n",
       "    </tr>\n",
       "    <tr>\n",
       "      <th>3</th>\n",
       "      <td>4</td>\n",
       "      <td>1</td>\n",
       "      <td>1</td>\n",
       "      <td>Futrelle, Mrs. Jacques Heath (Lily May Peel)</td>\n",
       "      <td>female</td>\n",
       "      <td>35.0</td>\n",
       "      <td>1</td>\n",
       "      <td>0</td>\n",
       "      <td>113803</td>\n",
       "      <td>53.1000</td>\n",
       "      <td>C123</td>\n",
       "      <td>S</td>\n",
       "    </tr>\n",
       "    <tr>\n",
       "      <th>4</th>\n",
       "      <td>5</td>\n",
       "      <td>0</td>\n",
       "      <td>3</td>\n",
       "      <td>Allen, Mr. William Henry</td>\n",
       "      <td>male</td>\n",
       "      <td>35.0</td>\n",
       "      <td>0</td>\n",
       "      <td>0</td>\n",
       "      <td>373450</td>\n",
       "      <td>8.0500</td>\n",
       "      <td>NaN</td>\n",
       "      <td>S</td>\n",
       "    </tr>\n",
       "  </tbody>\n",
       "</table>\n",
       "</div>"
      ],
      "text/plain": [
       "   PassengerId  Survived  Pclass  \\\n",
       "0            1         0       3   \n",
       "1            2         1       1   \n",
       "2            3         1       3   \n",
       "3            4         1       1   \n",
       "4            5         0       3   \n",
       "\n",
       "                                                Name     Sex   Age  SibSp  \\\n",
       "0                            Braund, Mr. Owen Harris    male  22.0      1   \n",
       "1  Cumings, Mrs. John Bradley (Florence Briggs Th...  female  38.0      1   \n",
       "2                             Heikkinen, Miss. Laina  female  26.0      0   \n",
       "3       Futrelle, Mrs. Jacques Heath (Lily May Peel)  female  35.0      1   \n",
       "4                           Allen, Mr. William Henry    male  35.0      0   \n",
       "\n",
       "   Parch            Ticket     Fare Cabin Embarked  \n",
       "0      0         A/5 21171   7.2500   NaN        S  \n",
       "1      0          PC 17599  71.2833   C85        C  \n",
       "2      0  STON/O2. 3101282   7.9250   NaN        S  \n",
       "3      0            113803  53.1000  C123        S  \n",
       "4      0            373450   8.0500   NaN        S  "
      ]
     },
     "execution_count": 3,
     "metadata": {},
     "output_type": "execute_result"
    }
   ],
   "source": [
    "df.head()"
   ]
  },
  {
   "cell_type": "code",
   "execution_count": 33,
   "metadata": {},
   "outputs": [],
   "source": [
    "def prob(focus, total_outcome):\n",
    "    return focus / total_outcome\n",
    "\n",
    "# To get the conditional probability\n",
    "def conditional_prob(subset_count,event_count,sample_space):\n",
    "    subset_prob = subset_count/ sample_space\n",
    "    event_prob = event_count / sample_space\n",
    "    conditional_p = subset_prob / event_prob\n",
    "    return conditional_p\n",
    "\n",
    "# To get the percentage of the conditional probability\n",
    "def conditional_prob_percentage(cond_prob):\n",
    "    percentage = cond_prob * 100\n",
    "    return '{:.2f}% chance of occuring'.format(percentage)\n"
   ]
  },
  {
   "cell_type": "code",
   "execution_count": 43,
   "metadata": {},
   "outputs": [
    {
     "data": {
      "text/plain": [
       "'62.96% chance of occuring'"
      ]
     },
     "execution_count": 43,
     "metadata": {},
     "output_type": "execute_result"
    }
   ],
   "source": [
    "# Given that someone is in first class, what are the chances they survived?\n",
    "\n",
    "df_count = len(df)\n",
    "\n",
    "first_class_df = df[df.Pclass == 1]\n",
    "first_class_count = len(first_class_df)\n",
    "\n",
    "first_class_survived_df = first_class_df[first_class_df.Survived == 1]\n",
    "first_class_survived_count = len(first_class_survived_df)\n",
    "\n",
    "condi_prob = conditional_prob(first_class_survived_count, first_class_count, df_count)\n",
    "conditional_prob_percentage(condi_prob)"
   ]
  },
  {
   "cell_type": "code",
   "execution_count": 44,
   "metadata": {},
   "outputs": [
    {
     "data": {
      "text/plain": [
       "'6.67% chance of occuring'"
      ]
     },
     "execution_count": 44,
     "metadata": {},
     "output_type": "execute_result"
    }
   ],
   "source": [
    "# Given that a passenger paid nothing, what is the probability that you survived?\n",
    "\n",
    "df_count = len(df)\n",
    "\n",
    "free_ticket_df = df[df.Fare == 0]\n",
    "free_ticket_count = len(free_ticket_df)\n",
    "\n",
    "free_ticket_survived_df = free_ticket_df[free_ticket_df.Survived == 1]\n",
    "free_ticket_survived_count = len(free_ticket_survived_df)\n",
    "\n",
    "condi_prob = conditional_prob(free_ticket_survived_count, free_ticket_count, df_count)\n",
    "conditional_prob_percentage(condi_prob)"
   ]
  },
  {
   "cell_type": "code",
   "execution_count": 45,
   "metadata": {},
   "outputs": [
    {
     "data": {
      "text/plain": [
       "'8.39% chance of occuring'"
      ]
     },
     "execution_count": 45,
     "metadata": {},
     "output_type": "execute_result"
    }
   ],
   "source": [
    "# Given a passenger embarked on SouthHampton, what is the probability that he/she is young <12\n",
    "\n",
    "df_count = len(df)\n",
    "\n",
    "embarked_south_hampton_df = df[df.Embarked == 'S']\n",
    "embarked_south_hampton_count = len(embarked_south_hampton_df)\n",
    "\n",
    "embarked_south_hampton_young_df = embarked_south_hampton_df[embarked_south_hampton_df.Age < 12]\n",
    "embarked_south_hampton_young_count = len(embarked_south_hampton_young_df)\n",
    "\n",
    "condi_prob = conditional_prob(embarked_south_hampton_young_count, embarked_south_hampton_count, df_count)\n",
    "conditional_prob_percentage(condi_prob)"
   ]
  },
  {
   "cell_type": "code",
   "execution_count": 46,
   "metadata": {},
   "outputs": [
    {
     "data": {
      "text/plain": [
       "'38.10% chance of occuring'"
      ]
     },
     "execution_count": 46,
     "metadata": {},
     "output_type": "execute_result"
    }
   ],
   "source": [
    "# Given that someone is older than 18, what are the chances they survived?\n",
    "\n",
    "df_count = len(df)\n",
    "\n",
    "adult_df = df[df.Age >= 18]\n",
    "adult_count = len(adult_df)\n",
    "\n",
    "adult_survivors_df = adult_df[adult_df.Survived == 1]\n",
    "adult_survivors_count = len(adult_survivors_df)\n",
    "\n",
    "condi_prob = conditional_prob(adult_survivors_count, adult_count, df_count)\n",
    "conditional_prob_percentage(condi_prob)"
   ]
  },
  {
   "cell_type": "code",
   "execution_count": 59,
   "metadata": {},
   "outputs": [
    {
     "data": {
      "text/plain": [
       "'93.81% chance of occuring'"
      ]
     },
     "execution_count": 59,
     "metadata": {},
     "output_type": "execute_result"
    }
   ],
   "source": [
    "# Given that someone is a minor, what was the probability they paid less than $100?\n",
    "\n",
    "df_count = len(df)\n",
    "\n",
    "minor_df = df[df.Age < 18]\n",
    "minor_count = len(minor_df)\n",
    "\n",
    "minor_100_df = minor_df[minor_df.Fare < 100]\n",
    "minor_100_count = len(minor_100_df)\n",
    "\n",
    "condi_prob = conditional_prob(minor_100_count, minor_count, df_count)\n",
    "conditional_prob_percentage(condi_prob)"
   ]
  },
  {
   "cell_type": "code",
   "execution_count": null,
   "metadata": {},
   "outputs": [],
   "source": []
  },
  {
   "cell_type": "code",
   "execution_count": null,
   "metadata": {},
   "outputs": [],
   "source": []
  }
 ],
 "metadata": {
  "kernelspec": {
   "display_name": "Python 3",
   "language": "python",
   "name": "python3"
  },
  "language_info": {
   "codemirror_mode": {
    "name": "ipython",
    "version": 3
   },
   "file_extension": ".py",
   "mimetype": "text/x-python",
   "name": "python",
   "nbconvert_exporter": "python",
   "pygments_lexer": "ipython3",
   "version": "3.6.5"
  }
 },
 "nbformat": 4,
 "nbformat_minor": 2
}
