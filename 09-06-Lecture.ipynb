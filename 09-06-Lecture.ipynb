{
 "cells": [
  {
   "cell_type": "code",
   "execution_count": 3,
   "metadata": {},
   "outputs": [
    {
     "data": {
      "text/plain": [
       "0.1"
      ]
     },
     "execution_count": 3,
     "metadata": {},
     "output_type": "execute_result"
    }
   ],
   "source": [
    "def fraction_prob(goal, total_outcomes):\n",
    "    return goal / total_outcomes"
   ]
  },
  {
   "cell_type": "code",
   "execution_count": 5,
   "metadata": {},
   "outputs": [
    {
     "data": {
      "text/plain": [
       "0.1"
      ]
     },
     "execution_count": 5,
     "metadata": {},
     "output_type": "execute_result"
    }
   ],
   "source": [
    "# it rained 3 \n",
    "\n",
    "# It rained 3 days last month, what was the probability of it raining? Express this in percentage and fractions as well\n",
    "fraction_prob(3, 30)\n",
    "\n",
    "# You had 28 days last year where your website had over 100,000 unique visitors. What was the probability of any one day having over 100k visitors? What percentage of days had over 100k visitors?\n",
    "\n",
    "\n",
    "# Your website crashes every 3rd Tuesday and every 2nd Thursday. What is the probability of a crash occuring in a 31 day month? Express this in percentages and fractions"
   ]
  },
  {
   "cell_type": "code",
   "execution_count": null,
   "metadata": {},
   "outputs": [],
   "source": []
  }
 ],
 "metadata": {
  "kernelspec": {
   "display_name": "Python 3",
   "language": "python",
   "name": "python3"
  },
  "language_info": {
   "codemirror_mode": {
    "name": "ipython",
    "version": 3
   },
   "file_extension": ".py",
   "mimetype": "text/x-python",
   "name": "python",
   "nbconvert_exporter": "python",
   "pygments_lexer": "ipython3",
   "version": "3.6.5"
  }
 },
 "nbformat": 4,
 "nbformat_minor": 2
}
