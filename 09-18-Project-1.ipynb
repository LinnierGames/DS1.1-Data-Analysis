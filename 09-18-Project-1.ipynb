{
 "cells": [
  {
   "cell_type": "code",
   "execution_count": 1,
   "metadata": {},
   "outputs": [],
   "source": [
    "import pandas as pd\n",
    "import numpy as np\n",
    "import seaborn as sns\n",
    "%matplotlib inline\n",
    "\n",
    "# Please dont change this--otherwise, you'll get different results from everyone else!\n",
    "np.random.seed(1547)\n",
    "\n",
    "DATASET_FOLDER = 'datasets/SA Feedback Surveys_FINAL'"
   ]
  },
  {
   "cell_type": "markdown",
   "metadata": {},
   "source": [
    "# Intialize df from 2017"
   ]
  },
  {
   "cell_type": "code",
   "execution_count": 2,
   "metadata": {
    "scrolled": true
   },
   "outputs": [
    {
     "data": {
      "text/html": [
       "<div>\n",
       "<style scoped>\n",
       "    .dataframe tbody tr th:only-of-type {\n",
       "        vertical-align: middle;\n",
       "    }\n",
       "\n",
       "    .dataframe tbody tr th {\n",
       "        vertical-align: top;\n",
       "    }\n",
       "\n",
       "    .dataframe thead th {\n",
       "        text-align: right;\n",
       "    }\n",
       "</style>\n",
       "<table border=\"1\" class=\"dataframe\">\n",
       "  <thead>\n",
       "    <tr style=\"text-align: right;\">\n",
       "      <th></th>\n",
       "      <th>ID</th>\n",
       "      <th>Location</th>\n",
       "      <th>Track</th>\n",
       "      <th>Week</th>\n",
       "      <th>Rating (Num)</th>\n",
       "      <th>Schedule Pacing</th>\n",
       "    </tr>\n",
       "  </thead>\n",
       "  <tbody>\n",
       "    <tr>\n",
       "      <th>0</th>\n",
       "      <td>134</td>\n",
       "      <td>San Francisco</td>\n",
       "      <td>Apps, Explorer</td>\n",
       "      <td>Week 1</td>\n",
       "      <td>3</td>\n",
       "      <td>Just right</td>\n",
       "    </tr>\n",
       "  </tbody>\n",
       "</table>\n",
       "</div>"
      ],
      "text/plain": [
       "    ID       Location           Track    Week Rating (Num) Schedule Pacing\n",
       "0  134  San Francisco  Apps, Explorer  Week 1            3      Just right"
      ]
     },
     "execution_count": 2,
     "metadata": {},
     "output_type": "execute_result"
    }
   ],
   "source": [
    "# get df for 2017\n",
    "df_2017 = pd.read_csv(DATASET_FOLDER + '/2017/Student Feedback Surveys-Superview.csv')\n",
    "df_2017.head(1)"
   ]
  },
  {
   "cell_type": "code",
   "execution_count": 3,
   "metadata": {},
   "outputs": [],
   "source": [
    "# new dataframe series=[\"id\", \"year\", \"location\", \"track\", \"week\", \"rating\": categorical, \"pace\": categorical]\n",
    "# set the index of the df\n",
    "df = pd.DataFrame(index=df_2017.ID)\n",
    "df.index.rename(\"id\", inplace=True)"
   ]
  },
  {
   "cell_type": "code",
   "execution_count": 21,
   "metadata": {},
   "outputs": [],
   "source": [
    "# set series from the df_2017 to the df\n",
    "df['year'] = 2017\n",
    "\n",
    "# location\n",
    "df['location'] = df_2017.Location\n",
    "\n",
    "# track\n",
    "df['track'] = df_2017.Track\n",
    "\n",
    "# week\n",
    "def to_integer(value):\n",
    "    return int(float(value))\n",
    "\n",
    "def get_int_from_week(value):\n",
    "    return int(float(value[-1]))\n",
    "\n",
    "df['week'] = df_2017.Week.apply(get_int_from_week).apply(to_integer).astype(int)\n",
    "\n",
    "# rating\n",
    "df['rating'] = pd.Series(df_2017['Rating (Num)'], dtype=\"category\")\n",
    "\n",
    "# pace\n",
    "df['pace'] = pd.Series(df_2017['Schedule Pacing'], dtype=\"category\")"
   ]
  },
  {
   "cell_type": "code",
   "execution_count": 5,
   "metadata": {},
   "outputs": [
    {
     "data": {
      "text/html": [
       "<div>\n",
       "<style scoped>\n",
       "    .dataframe tbody tr th:only-of-type {\n",
       "        vertical-align: middle;\n",
       "    }\n",
       "\n",
       "    .dataframe tbody tr th {\n",
       "        vertical-align: top;\n",
       "    }\n",
       "\n",
       "    .dataframe thead th {\n",
       "        text-align: right;\n",
       "    }\n",
       "</style>\n",
       "<table border=\"1\" class=\"dataframe\">\n",
       "  <thead>\n",
       "    <tr style=\"text-align: right;\">\n",
       "      <th></th>\n",
       "      <th>year</th>\n",
       "      <th>location</th>\n",
       "      <th>track</th>\n",
       "      <th>week</th>\n",
       "      <th>rating</th>\n",
       "      <th>pace</th>\n",
       "    </tr>\n",
       "    <tr>\n",
       "      <th>id</th>\n",
       "      <th></th>\n",
       "      <th></th>\n",
       "      <th></th>\n",
       "      <th></th>\n",
       "      <th></th>\n",
       "      <th></th>\n",
       "    </tr>\n",
       "  </thead>\n",
       "  <tbody>\n",
       "    <tr>\n",
       "      <th>134</th>\n",
       "      <td>2017</td>\n",
       "      <td>Oakland</td>\n",
       "      <td>Apps</td>\n",
       "      <td>1.0</td>\n",
       "      <td>8</td>\n",
       "      <td>A little too fast</td>\n",
       "    </tr>\n",
       "    <tr>\n",
       "      <th>36</th>\n",
       "      <td>2017</td>\n",
       "      <td>Santa Clara</td>\n",
       "      <td>Games</td>\n",
       "      <td>3.0</td>\n",
       "      <td>6</td>\n",
       "      <td>Way too slow</td>\n",
       "    </tr>\n",
       "    <tr>\n",
       "      <th>117</th>\n",
       "      <td>2017</td>\n",
       "      <td>Oakland</td>\n",
       "      <td>Apps</td>\n",
       "      <td>1.0</td>\n",
       "      <td>8</td>\n",
       "      <td>A little too fast</td>\n",
       "    </tr>\n",
       "    <tr>\n",
       "      <th>253</th>\n",
       "      <td>2017</td>\n",
       "      <td>New York City</td>\n",
       "      <td>Apps, Explorer</td>\n",
       "      <td>1.0</td>\n",
       "      <td>8</td>\n",
       "      <td>A little too fast</td>\n",
       "    </tr>\n",
       "    <tr>\n",
       "      <th>350</th>\n",
       "      <td>2017</td>\n",
       "      <td>Santa Clara</td>\n",
       "      <td>Games, Explorer</td>\n",
       "      <td>3.0</td>\n",
       "      <td>9</td>\n",
       "      <td>Just right</td>\n",
       "    </tr>\n",
       "  </tbody>\n",
       "</table>\n",
       "</div>"
      ],
      "text/plain": [
       "     year       location            track  week rating               pace\n",
       "id                                                                       \n",
       "134  2017        Oakland             Apps   1.0      8  A little too fast\n",
       "36   2017    Santa Clara            Games   3.0      6       Way too slow\n",
       "117  2017        Oakland             Apps   1.0      8  A little too fast\n",
       "253  2017  New York City   Apps, Explorer   1.0      8  A little too fast\n",
       "350  2017    Santa Clara  Games, Explorer   3.0      9         Just right"
      ]
     },
     "execution_count": 5,
     "metadata": {},
     "output_type": "execute_result"
    }
   ],
   "source": [
    "df.head()"
   ]
  },
  {
   "cell_type": "code",
   "execution_count": 22,
   "metadata": {},
   "outputs": [
    {
     "data": {
      "text/plain": [
       "year           int64\n",
       "location      object\n",
       "track         object\n",
       "week         float64\n",
       "rating      category\n",
       "pace        category\n",
       "dtype: object"
      ]
     },
     "execution_count": 22,
     "metadata": {},
     "output_type": "execute_result"
    }
   ],
   "source": [
    "df.dtypes"
   ]
  },
  {
   "cell_type": "markdown",
   "metadata": {},
   "source": [
    "# Collecting all CSVs from the 2016 folder"
   ]
  },
  {
   "cell_type": "code",
   "execution_count": 7,
   "metadata": {},
   "outputs": [
    {
     "data": {
      "text/html": [
       "<div>\n",
       "<style scoped>\n",
       "    .dataframe tbody tr th:only-of-type {\n",
       "        vertical-align: middle;\n",
       "    }\n",
       "\n",
       "    .dataframe tbody tr th {\n",
       "        vertical-align: top;\n",
       "    }\n",
       "\n",
       "    .dataframe thead th {\n",
       "        text-align: right;\n",
       "    }\n",
       "</style>\n",
       "<table border=\"1\" class=\"dataframe\">\n",
       "  <thead>\n",
       "    <tr style=\"text-align: right;\">\n",
       "      <th></th>\n",
       "      <th>pace</th>\n",
       "      <th>rating</th>\n",
       "      <th>track</th>\n",
       "      <th>location</th>\n",
       "      <th>week</th>\n",
       "      <th>year</th>\n",
       "    </tr>\n",
       "  </thead>\n",
       "  <tbody>\n",
       "    <tr>\n",
       "      <th>0</th>\n",
       "      <td>3</td>\n",
       "      <td>3</td>\n",
       "      <td>NaN</td>\n",
       "      <td>Taipei</td>\n",
       "      <td>7</td>\n",
       "      <td>2016</td>\n",
       "    </tr>\n",
       "  </tbody>\n",
       "</table>\n",
       "</div>"
      ],
      "text/plain": [
       "  pace rating track location week  year\n",
       "0    3      3   NaN   Taipei    7  2016"
      ]
     },
     "execution_count": 7,
     "metadata": {},
     "output_type": "execute_result"
    }
   ],
   "source": [
    "# collect all filenames\n",
    "from os import walk\n",
    "import re\n",
    "\n",
    "DATASET_2016_FOLDER = DATASET_FOLDER + '/2016'\n",
    "\n",
    "filenames = []\n",
    "for (dirpath, dirnames, f) in walk(DATASET_2016_FOLDER):\n",
    "    filenames.extend(f)\n",
    "    break\n",
    "\n",
    "# create empty df\n",
    "df_2016 = pd.DataFrame([], columns=[\"pace\", \"rating\", \"track\", \"location\", \"week\"])\n",
    "\n",
    "for a_filename in filenames:\n",
    "    \n",
    "    # collect week, location\n",
    "    m = re.search('Anon Week (\\d) Feedback - (.*)\\.csv', a_filename)\n",
    "    if m is None:\n",
    "        continue\n",
    "        \n",
    "    week_number = m.group(1)\n",
    "    location_title = m.group(2)\n",
    "    \n",
    "    # read csv (rating, pace, track?) and append series to the df_2016\n",
    "    a_df = pd.read_csv(DATASET_2016_FOLDER + '/' + a_filename)\n",
    "    \n",
    "    to_append = pd.DataFrame()\n",
    "    \n",
    "    try:\n",
    "        to_append['track'] = a_df['How well is the schedule paced??']\n",
    "        # display(\"Track: OK\")\n",
    "    except KeyError:\n",
    "        # display(\"Track: error\")\n",
    "        to_append['track'] = np.nan\n",
    "        \n",
    "    try:\n",
    "        to_append['rating'] = a_df['How would you rate your overall satisfaction with the Summer Academy this week?']\n",
    "        # display(\"Rating: OK\")\n",
    "    except KeyError:\n",
    "        # display(\"Rating: error\")\n",
    "        to_append['rating'] = np.nan\n",
    "    \n",
    "    try:\n",
    "        to_append['pace'] = a_df['How well is the schedule paced?']\n",
    "        # display(\"Track: OK\")\n",
    "    except KeyError:\n",
    "        # display(\"Track: error\")\n",
    "        to_append['pace'] = np.nan\n",
    "        \n",
    "    to_append['week'] = week_number\n",
    "    to_append['location'] = location_title\n",
    "        \n",
    "    df_2016 = df_2016.append(to_append, ignore_index=True, sort=False)\n",
    "    \n",
    "df_2016['year'] = 2016\n",
    "df_2016.head(1)"
   ]
  },
  {
   "cell_type": "code",
   "execution_count": 8,
   "metadata": {},
   "outputs": [
    {
     "data": {
      "text/plain": [
       "3        430\n",
       "4        163\n",
       "2         44\n",
       "5         31\n",
       "3         20\n",
       "4         10\n",
       "1          6\n",
       "2          4\n",
       "5          2\n",
       "#REF!      1\n",
       "Name: pace, dtype: int64"
      ]
     },
     "execution_count": 8,
     "metadata": {},
     "output_type": "execute_result"
    }
   ],
   "source": [
    "df_2016.pace.value_counts()"
   ]
  },
  {
   "cell_type": "markdown",
   "metadata": {},
   "source": [
    "# Format the 2018 df to match the desired data types"
   ]
  },
  {
   "cell_type": "code",
   "execution_count": 9,
   "metadata": {},
   "outputs": [
    {
     "data": {
      "text/plain": [
       "0      7\n",
       "1      7\n",
       "2      7\n",
       "3      7\n",
       "4      7\n",
       "5      7\n",
       "6      7\n",
       "7      7\n",
       "8      7\n",
       "9      7\n",
       "10     7\n",
       "11     6\n",
       "12     6\n",
       "13     6\n",
       "14     6\n",
       "15     6\n",
       "16     6\n",
       "17     6\n",
       "18     6\n",
       "19     6\n",
       "20     6\n",
       "21     6\n",
       "22     6\n",
       "23     6\n",
       "24     1\n",
       "25     1\n",
       "26     1\n",
       "27     1\n",
       "28     1\n",
       "29     1\n",
       "      ..\n",
       "897    3\n",
       "898    3\n",
       "899    3\n",
       "900    3\n",
       "901    3\n",
       "902    3\n",
       "903    3\n",
       "904    3\n",
       "905    3\n",
       "906    3\n",
       "907    3\n",
       "908    3\n",
       "909    3\n",
       "910    3\n",
       "911    3\n",
       "912    3\n",
       "913    3\n",
       "914    3\n",
       "915    3\n",
       "916    3\n",
       "917    3\n",
       "918    3\n",
       "919    3\n",
       "920    3\n",
       "921    3\n",
       "922    3\n",
       "923    3\n",
       "924    3\n",
       "925    3\n",
       "926    3\n",
       "Name: week, Length: 927, dtype: object"
      ]
     },
     "execution_count": 9,
     "metadata": {},
     "output_type": "execute_result"
    }
   ],
   "source": [
    "df_2016.week"
   ]
  },
  {
   "cell_type": "code",
   "execution_count": 10,
   "metadata": {},
   "outputs": [
    {
     "data": {
      "text/plain": [
       "pace        category\n",
       "rating      category\n",
       "track         object\n",
       "location      object\n",
       "week           int64\n",
       "year           int64\n",
       "dtype: object"
      ]
     },
     "execution_count": 10,
     "metadata": {},
     "output_type": "execute_result"
    }
   ],
   "source": [
    "# Week\n",
    "df_2016.week = df_2016.week.apply(to_integer)\n",
    "\n",
    "# rating\n",
    "df_2016.rating = df_2016.rating.astype('category')\n",
    "\n",
    "# pace\n",
    "def pace_from_ints_to_strings(value):\n",
    "    if value is np.nan:\n",
    "        return np.nan\n",
    "    \n",
    "    if value is not int or int(value) < 1 or int(value) > 5:\n",
    "        return np.nan\n",
    "    \n",
    "    int_value = int(value)\n",
    "    \n",
    "    if int_value == 1:\n",
    "        return \"Way too slow\"\n",
    "    elif int_value == 2:\n",
    "        return \"A little too slow\"\n",
    "    elif int_value == 3:\n",
    "        return \"Just right\"\n",
    "    elif int_value == 4:\n",
    "        return \"A little too fast\"\n",
    "    elif int_value == 5:\n",
    "        return \"Way too fast\"\n",
    "        \n",
    "df_2016.pace = df_2016.pace.apply(pace_from_ints_to_strings).astype('category')\n",
    "\n",
    "df_2016.dtypes"
   ]
  },
  {
   "cell_type": "markdown",
   "metadata": {},
   "source": [
    "# Join two dfs"
   ]
  },
  {
   "cell_type": "code",
   "execution_count": 17,
   "metadata": {},
   "outputs": [],
   "source": [
    "summer_df = df.append(df_2016, ignore_index=True, sort=False)"
   ]
  },
  {
   "cell_type": "code",
   "execution_count": 18,
   "metadata": {},
   "outputs": [
    {
     "data": {
      "text/plain": [
       "year          int64\n",
       "location     object\n",
       "track        object\n",
       "week        float64\n",
       "rating       object\n",
       "pace         object\n",
       "dtype: object"
      ]
     },
     "execution_count": 18,
     "metadata": {},
     "output_type": "execute_result"
    }
   ],
   "source": [
    "summer_df.dtypes"
   ]
  },
  {
   "cell_type": "code",
   "execution_count": null,
   "metadata": {},
   "outputs": [],
   "source": []
  }
 ],
 "metadata": {
  "kernelspec": {
   "display_name": "Python 3",
   "language": "python",
   "name": "python3"
  },
  "language_info": {
   "codemirror_mode": {
    "name": "ipython",
    "version": 3
   },
   "file_extension": ".py",
   "mimetype": "text/x-python",
   "name": "python",
   "nbconvert_exporter": "python",
   "pygments_lexer": "ipython3",
   "version": "3.6.5"
  }
 },
 "nbformat": 4,
 "nbformat_minor": 2
}
