{
 "cells": [
  {
   "cell_type": "code",
   "execution_count": 1,
   "metadata": {
    "slideshow": {
     "slide_type": "skip"
    }
   },
   "outputs": [],
   "source": [
    "import pandas as pd\n",
    "import numpy as np\n",
    "import seaborn as sns\n",
    "%matplotlib inline\n",
    "\n",
    "# Please dont change this--otherwise, you'll get different results from everyone else!\n",
    "np.random.seed(1547)\n",
    "\n",
    "DATASET_FOLDER = 'datasets/SA Feedback Surveys_FINAL'"
   ]
  },
  {
   "cell_type": "markdown",
   "metadata": {
    "slideshow": {
     "slide_type": "slide"
    }
   },
   "source": [
    "# Intialize df from 2017"
   ]
  },
  {
   "cell_type": "markdown",
   "metadata": {
    "slideshow": {
     "slide_type": "slide"
    }
   },
   "source": [
    "![game plan](./images/project-01-gameplan-1.png)"
   ]
  },
  {
   "cell_type": "code",
   "execution_count": 2,
   "metadata": {
    "scrolled": true,
    "slideshow": {
     "slide_type": "subslide"
    }
   },
   "outputs": [
    {
     "data": {
      "text/html": [
       "<div>\n",
       "<style scoped>\n",
       "    .dataframe tbody tr th:only-of-type {\n",
       "        vertical-align: middle;\n",
       "    }\n",
       "\n",
       "    .dataframe tbody tr th {\n",
       "        vertical-align: top;\n",
       "    }\n",
       "\n",
       "    .dataframe thead th {\n",
       "        text-align: right;\n",
       "    }\n",
       "</style>\n",
       "<table border=\"1\" class=\"dataframe\">\n",
       "  <thead>\n",
       "    <tr style=\"text-align: right;\">\n",
       "      <th></th>\n",
       "      <th>ID</th>\n",
       "      <th>Location</th>\n",
       "      <th>Track</th>\n",
       "      <th>Week</th>\n",
       "      <th>Rating (Num)</th>\n",
       "      <th>Schedule Pacing</th>\n",
       "    </tr>\n",
       "  </thead>\n",
       "  <tbody>\n",
       "    <tr>\n",
       "      <th>0</th>\n",
       "      <td>134</td>\n",
       "      <td>San Francisco</td>\n",
       "      <td>Apps, Explorer</td>\n",
       "      <td>Week 1</td>\n",
       "      <td>3</td>\n",
       "      <td>Just right</td>\n",
       "    </tr>\n",
       "  </tbody>\n",
       "</table>\n",
       "</div>"
      ],
      "text/plain": [
       "    ID       Location           Track    Week Rating (Num) Schedule Pacing\n",
       "0  134  San Francisco  Apps, Explorer  Week 1            3      Just right"
      ]
     },
     "execution_count": 2,
     "metadata": {},
     "output_type": "execute_result"
    }
   ],
   "source": [
    "# get df for 2017\n",
    "df_2017 = pd.read_csv(DATASET_FOLDER + '/2017/Student Feedback Surveys-Superview.csv')\n",
    "df_2017.head(1)"
   ]
  },
  {
   "cell_type": "code",
   "execution_count": 3,
   "metadata": {
    "slideshow": {
     "slide_type": "subslide"
    }
   },
   "outputs": [],
   "source": [
    "# new dataframe series=[\"id\", \"year\", \"location\", \"track\", \"week\", \"rating\": categorical, \"pace\": categorical]\n",
    "# set the index of the df\n",
    "df = pd.DataFrame(index=df_2017.ID)\n",
    "df.index.rename(\"id\", inplace=True)"
   ]
  },
  {
   "cell_type": "code",
   "execution_count": 4,
   "metadata": {
    "slideshow": {
     "slide_type": "subslide"
    }
   },
   "outputs": [],
   "source": [
    "# set series from the df_2017 to the df\n",
    "df['year'] = 2017\n",
    "\n",
    "# location\n",
    "df['location'] = df_2017.Location\n",
    "\n",
    "# track\n",
    "df['track'] = df_2017.Track\n",
    "\n",
    "# week\n",
    "def to_integer(value):\n",
    "    return int(float(value))\n",
    "\n",
    "def get_int_from_week(value):\n",
    "    return int(float(value[-1]))\n",
    "\n",
    "def only_numbers(value):\n",
    "    try:\n",
    "        return int(float(value))\n",
    "    except ValueError:\n",
    "        return np.nan\n",
    "\n",
    "df['week'] = df_2017.Week.apply(get_int_from_week).apply(to_integer).astype(int)\n",
    "\n",
    "# rating\n",
    "df['rating'] = pd.Series(df_2017['Rating (Num)'], dtype=\"category\")\n",
    "\n",
    "# pace\n",
    "df['pace'] = pd.Series(df_2017['Schedule Pacing'], dtype=\"category\")"
   ]
  },
  {
   "cell_type": "code",
   "execution_count": 5,
   "metadata": {
    "slideshow": {
     "slide_type": "subslide"
    }
   },
   "outputs": [
    {
     "data": {
      "text/html": [
       "<div>\n",
       "<style scoped>\n",
       "    .dataframe tbody tr th:only-of-type {\n",
       "        vertical-align: middle;\n",
       "    }\n",
       "\n",
       "    .dataframe tbody tr th {\n",
       "        vertical-align: top;\n",
       "    }\n",
       "\n",
       "    .dataframe thead th {\n",
       "        text-align: right;\n",
       "    }\n",
       "</style>\n",
       "<table border=\"1\" class=\"dataframe\">\n",
       "  <thead>\n",
       "    <tr style=\"text-align: right;\">\n",
       "      <th></th>\n",
       "      <th>year</th>\n",
       "      <th>location</th>\n",
       "      <th>track</th>\n",
       "      <th>week</th>\n",
       "      <th>rating</th>\n",
       "      <th>pace</th>\n",
       "    </tr>\n",
       "    <tr>\n",
       "      <th>id</th>\n",
       "      <th></th>\n",
       "      <th></th>\n",
       "      <th></th>\n",
       "      <th></th>\n",
       "      <th></th>\n",
       "      <th></th>\n",
       "    </tr>\n",
       "  </thead>\n",
       "  <tbody>\n",
       "    <tr>\n",
       "      <th>134</th>\n",
       "      <td>2017</td>\n",
       "      <td>Oakland</td>\n",
       "      <td>Apps</td>\n",
       "      <td>1.0</td>\n",
       "      <td>8</td>\n",
       "      <td>A little too fast</td>\n",
       "    </tr>\n",
       "    <tr>\n",
       "      <th>36</th>\n",
       "      <td>2017</td>\n",
       "      <td>Santa Clara</td>\n",
       "      <td>Games</td>\n",
       "      <td>3.0</td>\n",
       "      <td>6</td>\n",
       "      <td>Way too slow</td>\n",
       "    </tr>\n",
       "    <tr>\n",
       "      <th>117</th>\n",
       "      <td>2017</td>\n",
       "      <td>Oakland</td>\n",
       "      <td>Apps</td>\n",
       "      <td>1.0</td>\n",
       "      <td>8</td>\n",
       "      <td>A little too fast</td>\n",
       "    </tr>\n",
       "    <tr>\n",
       "      <th>253</th>\n",
       "      <td>2017</td>\n",
       "      <td>New York City</td>\n",
       "      <td>Apps, Explorer</td>\n",
       "      <td>1.0</td>\n",
       "      <td>8</td>\n",
       "      <td>A little too fast</td>\n",
       "    </tr>\n",
       "    <tr>\n",
       "      <th>350</th>\n",
       "      <td>2017</td>\n",
       "      <td>Santa Clara</td>\n",
       "      <td>Games, Explorer</td>\n",
       "      <td>3.0</td>\n",
       "      <td>9</td>\n",
       "      <td>Just right</td>\n",
       "    </tr>\n",
       "  </tbody>\n",
       "</table>\n",
       "</div>"
      ],
      "text/plain": [
       "     year       location            track  week rating               pace\n",
       "id                                                                       \n",
       "134  2017        Oakland             Apps   1.0      8  A little too fast\n",
       "36   2017    Santa Clara            Games   3.0      6       Way too slow\n",
       "117  2017        Oakland             Apps   1.0      8  A little too fast\n",
       "253  2017  New York City   Apps, Explorer   1.0      8  A little too fast\n",
       "350  2017    Santa Clara  Games, Explorer   3.0      9         Just right"
      ]
     },
     "execution_count": 5,
     "metadata": {},
     "output_type": "execute_result"
    }
   ],
   "source": [
    "df.head()"
   ]
  },
  {
   "cell_type": "code",
   "execution_count": 6,
   "metadata": {
    "slideshow": {
     "slide_type": "subslide"
    }
   },
   "outputs": [
    {
     "data": {
      "text/plain": [
       "year           int64\n",
       "location      object\n",
       "track         object\n",
       "week         float64\n",
       "rating      category\n",
       "pace        category\n",
       "dtype: object"
      ]
     },
     "execution_count": 6,
     "metadata": {},
     "output_type": "execute_result"
    }
   ],
   "source": [
    "df.dtypes"
   ]
  },
  {
   "cell_type": "markdown",
   "metadata": {
    "slideshow": {
     "slide_type": "slide"
    }
   },
   "source": [
    "# Collecting all CSVs from the 2016 folder"
   ]
  },
  {
   "cell_type": "markdown",
   "metadata": {
    "slideshow": {
     "slide_type": "slide"
    }
   },
   "source": [
    "![game plan](./images/project-01-gameplan-2.png)"
   ]
  },
  {
   "cell_type": "code",
   "execution_count": 7,
   "metadata": {
    "slideshow": {
     "slide_type": "subslide"
    }
   },
   "outputs": [
    {
     "data": {
      "text/html": [
       "<div>\n",
       "<style scoped>\n",
       "    .dataframe tbody tr th:only-of-type {\n",
       "        vertical-align: middle;\n",
       "    }\n",
       "\n",
       "    .dataframe tbody tr th {\n",
       "        vertical-align: top;\n",
       "    }\n",
       "\n",
       "    .dataframe thead th {\n",
       "        text-align: right;\n",
       "    }\n",
       "</style>\n",
       "<table border=\"1\" class=\"dataframe\">\n",
       "  <thead>\n",
       "    <tr style=\"text-align: right;\">\n",
       "      <th></th>\n",
       "      <th>pace</th>\n",
       "      <th>rating</th>\n",
       "      <th>track</th>\n",
       "      <th>location</th>\n",
       "      <th>week</th>\n",
       "      <th>year</th>\n",
       "    </tr>\n",
       "  </thead>\n",
       "  <tbody>\n",
       "    <tr>\n",
       "      <th>0</th>\n",
       "      <td>3</td>\n",
       "      <td>6</td>\n",
       "      <td>NaN</td>\n",
       "      <td>Taipei</td>\n",
       "      <td>7</td>\n",
       "      <td>2016</td>\n",
       "    </tr>\n",
       "  </tbody>\n",
       "</table>\n",
       "</div>"
      ],
      "text/plain": [
       "  pace rating track location week  year\n",
       "0    3      6   NaN   Taipei    7  2016"
      ]
     },
     "execution_count": 7,
     "metadata": {},
     "output_type": "execute_result"
    }
   ],
   "source": [
    "# collect all filenames\n",
    "from os import walk\n",
    "import re\n",
    "\n",
    "DATASET_2016_FOLDER = DATASET_FOLDER + '/2016'\n",
    "\n",
    "filenames = []\n",
    "for (dirpath, dirnames, f) in walk(DATASET_2016_FOLDER):\n",
    "    filenames.extend(f)\n",
    "    break\n",
    "\n",
    "# create empty df\n",
    "df_2016 = pd.DataFrame([], columns=[\"pace\", \"rating\", \"track\", \"location\", \"week\"])\n",
    "\n",
    "for a_filename in filenames:\n",
    "    \n",
    "    # collect week, location\n",
    "    m = re.search('Anon Week (\\d) Feedback - (.*)\\.csv', a_filename)\n",
    "    if m is None:\n",
    "        continue\n",
    "        \n",
    "    week_number = m.group(1)\n",
    "    location_title = m.group(2)\n",
    "    \n",
    "    # read csv (rating, pace, track?) and append series to the df_2016\n",
    "    a_df = pd.read_csv(DATASET_2016_FOLDER + '/' + a_filename)\n",
    "    \n",
    "    to_append = pd.DataFrame()\n",
    "    \n",
    "    try:\n",
    "        to_append['track'] = a_df['How well is the schedule paced??']\n",
    "        # display(\"Track: OK\")\n",
    "    except KeyError:\n",
    "        # display(\"Track: error\")\n",
    "        to_append['track'] = np.nan\n",
    "        \n",
    "    try:\n",
    "        to_append['rating'] = a_df['How would you rate your overall satisfaction with the Summer Academy this week?']\n",
    "        # display(\"Rating: OK\")\n",
    "    except KeyError:\n",
    "        # display(\"Rating: error\")\n",
    "        to_append['rating'] = np.nan\n",
    "    \n",
    "    try:\n",
    "        to_append['pace'] = a_df['How well is the schedule paced?']\n",
    "        # display(\"Track: OK\")\n",
    "    except KeyError:\n",
    "        # display(\"Track: error\")\n",
    "        to_append['pace'] = np.nan\n",
    "        \n",
    "    to_append['week'] = week_number\n",
    "    to_append['location'] = location_title\n",
    "    to_append.rating = to_append.rating.apply(lambda i: i * 2)\n",
    "        \n",
    "    df_2016 = df_2016.append(to_append, ignore_index=True, sort=False)\n",
    "    \n",
    "df_2016['year'] = 2016\n",
    "df_2016.head(1)"
   ]
  },
  {
   "cell_type": "code",
   "execution_count": 8,
   "metadata": {
    "scrolled": true,
    "slideshow": {
     "slide_type": "subslide"
    }
   },
   "outputs": [
    {
     "data": {
      "text/plain": [
       "3        430\n",
       "4        163\n",
       "2         44\n",
       "5         31\n",
       "3         20\n",
       "4         10\n",
       "1          6\n",
       "2          4\n",
       "5          2\n",
       "#REF!      1\n",
       "Name: pace, dtype: int64"
      ]
     },
     "execution_count": 8,
     "metadata": {},
     "output_type": "execute_result"
    }
   ],
   "source": [
    "df_2016.pace.value_counts()"
   ]
  },
  {
   "cell_type": "markdown",
   "metadata": {
    "slideshow": {
     "slide_type": "slide"
    }
   },
   "source": [
    "# Format the 2016 df to match the desired data types"
   ]
  },
  {
   "cell_type": "markdown",
   "metadata": {
    "slideshow": {
     "slide_type": "slide"
    }
   },
   "source": [
    "![game plan](./images/project-01-gameplan-3.png)"
   ]
  },
  {
   "cell_type": "code",
   "execution_count": 9,
   "metadata": {
    "slideshow": {
     "slide_type": "subslide"
    }
   },
   "outputs": [],
   "source": [
    "# Week\n",
    "df_2016.week = df_2016.week.apply(to_integer)\n",
    "\n",
    "# rating\n",
    "df_2016.rating = df_2016.rating.astype('category')\n",
    "\n",
    "# pace\n",
    "def pace_from_ints_to_strings(value):\n",
    "    if value is np.nan:\n",
    "        return np.nan\n",
    "    \n",
    "    if value is not int or int(value) < 1 or int(value) > 5:\n",
    "        return np.nan\n",
    "    \n",
    "    int_value = int(value)\n",
    "    \n",
    "    if int_value == 1:\n",
    "        return \"Way too slow\"\n",
    "    elif int_value == 2:\n",
    "        return \"A little too slow\"\n",
    "    elif int_value == 3:\n",
    "        return \"Just right\"\n",
    "    elif int_value == 4:\n",
    "        return \"A little too fast\"\n",
    "    elif int_value == 5:\n",
    "        return \"Way too fast\"\n",
    "        \n",
    "df_2016.pace = df_2016.pace.apply(pace_from_ints_to_strings).astype('category')\n",
    "\n",
    "# use nan if rating is not a number\n",
    "df_2016.rating = df_2016.rating.apply(only_numbers)"
   ]
  },
  {
   "cell_type": "markdown",
   "metadata": {
    "slideshow": {
     "slide_type": "slide"
    }
   },
   "source": [
    "# Join two dfs"
   ]
  },
  {
   "cell_type": "markdown",
   "metadata": {
    "slideshow": {
     "slide_type": "skip"
    }
   },
   "source": [
    "![game plan](./images/project-01-gameplan-3.png)"
   ]
  },
  {
   "cell_type": "code",
   "execution_count": 10,
   "metadata": {
    "slideshow": {
     "slide_type": "subslide"
    }
   },
   "outputs": [],
   "source": [
    "summer_df = df.append(df_2016, ignore_index=True, sort=False)"
   ]
  },
  {
   "cell_type": "code",
   "execution_count": 11,
   "metadata": {
    "slideshow": {
     "slide_type": "subslide"
    }
   },
   "outputs": [
    {
     "data": {
      "text/plain": [
       "year          int64\n",
       "location     object\n",
       "track        object\n",
       "week        float64\n",
       "rating       object\n",
       "pace         object\n",
       "dtype: object"
      ]
     },
     "execution_count": 11,
     "metadata": {},
     "output_type": "execute_result"
    }
   ],
   "source": [
    "summer_df.dtypes"
   ]
  },
  {
   "cell_type": "code",
   "execution_count": 12,
   "metadata": {
    "slideshow": {
     "slide_type": "subslide"
    }
   },
   "outputs": [
    {
     "data": {
      "text/html": [
       "<div>\n",
       "<style scoped>\n",
       "    .dataframe tbody tr th:only-of-type {\n",
       "        vertical-align: middle;\n",
       "    }\n",
       "\n",
       "    .dataframe tbody tr th {\n",
       "        vertical-align: top;\n",
       "    }\n",
       "\n",
       "    .dataframe thead th {\n",
       "        text-align: right;\n",
       "    }\n",
       "</style>\n",
       "<table border=\"1\" class=\"dataframe\">\n",
       "  <thead>\n",
       "    <tr style=\"text-align: right;\">\n",
       "      <th></th>\n",
       "      <th>year</th>\n",
       "      <th>location</th>\n",
       "      <th>track</th>\n",
       "      <th>week</th>\n",
       "      <th>rating</th>\n",
       "      <th>pace</th>\n",
       "    </tr>\n",
       "  </thead>\n",
       "  <tbody>\n",
       "    <tr>\n",
       "      <th>0</th>\n",
       "      <td>2017</td>\n",
       "      <td>Oakland</td>\n",
       "      <td>Apps</td>\n",
       "      <td>1.0</td>\n",
       "      <td>8</td>\n",
       "      <td>A little too fast</td>\n",
       "    </tr>\n",
       "    <tr>\n",
       "      <th>1</th>\n",
       "      <td>2017</td>\n",
       "      <td>Santa Clara</td>\n",
       "      <td>Games</td>\n",
       "      <td>3.0</td>\n",
       "      <td>6</td>\n",
       "      <td>Way too slow</td>\n",
       "    </tr>\n",
       "    <tr>\n",
       "      <th>2</th>\n",
       "      <td>2017</td>\n",
       "      <td>Oakland</td>\n",
       "      <td>Apps</td>\n",
       "      <td>1.0</td>\n",
       "      <td>8</td>\n",
       "      <td>A little too fast</td>\n",
       "    </tr>\n",
       "    <tr>\n",
       "      <th>3</th>\n",
       "      <td>2017</td>\n",
       "      <td>New York City</td>\n",
       "      <td>Apps, Explorer</td>\n",
       "      <td>1.0</td>\n",
       "      <td>8</td>\n",
       "      <td>A little too fast</td>\n",
       "    </tr>\n",
       "    <tr>\n",
       "      <th>4</th>\n",
       "      <td>2017</td>\n",
       "      <td>Santa Clara</td>\n",
       "      <td>Games, Explorer</td>\n",
       "      <td>3.0</td>\n",
       "      <td>9</td>\n",
       "      <td>Just right</td>\n",
       "    </tr>\n",
       "  </tbody>\n",
       "</table>\n",
       "</div>"
      ],
      "text/plain": [
       "   year       location            track  week rating               pace\n",
       "0  2017        Oakland             Apps   1.0      8  A little too fast\n",
       "1  2017    Santa Clara            Games   3.0      6       Way too slow\n",
       "2  2017        Oakland             Apps   1.0      8  A little too fast\n",
       "3  2017  New York City   Apps, Explorer   1.0      8  A little too fast\n",
       "4  2017    Santa Clara  Games, Explorer   3.0      9         Just right"
      ]
     },
     "execution_count": 12,
     "metadata": {},
     "output_type": "execute_result"
    }
   ],
   "source": [
    "summer_df.head()"
   ]
  },
  {
   "cell_type": "markdown",
   "metadata": {
    "slideshow": {
     "slide_type": "slide"
    }
   },
   "source": [
    "# Cleaning the data\n",
    "\n",
    "### City Names\n",
    "Changes SF = San Francisco\n",
    "\n",
    "### Drop Records for Invalid Rating Data\n",
    "If a row has invalid rating data, drop it from the data frame\n",
    "\n",
    "### Create the `nps_score` Series\n",
    "Add a new series the represents if the row is a promoter, passive or a dectractor according the the `rating`"
   ]
  },
  {
   "cell_type": "code",
   "execution_count": 13,
   "metadata": {
    "slideshow": {
     "slide_type": "slide"
    }
   },
   "outputs": [
    {
     "data": {
      "text/html": [
       "<div>\n",
       "<style scoped>\n",
       "    .dataframe tbody tr th:only-of-type {\n",
       "        vertical-align: middle;\n",
       "    }\n",
       "\n",
       "    .dataframe tbody tr th {\n",
       "        vertical-align: top;\n",
       "    }\n",
       "\n",
       "    .dataframe thead th {\n",
       "        text-align: right;\n",
       "    }\n",
       "</style>\n",
       "<table border=\"1\" class=\"dataframe\">\n",
       "  <thead>\n",
       "    <tr style=\"text-align: right;\">\n",
       "      <th></th>\n",
       "      <th>year</th>\n",
       "      <th>location</th>\n",
       "      <th>track</th>\n",
       "      <th>week</th>\n",
       "      <th>rating</th>\n",
       "      <th>pace</th>\n",
       "    </tr>\n",
       "  </thead>\n",
       "  <tbody>\n",
       "    <tr>\n",
       "      <th>2375</th>\n",
       "      <td>2016</td>\n",
       "      <td>SV</td>\n",
       "      <td>NaN</td>\n",
       "      <td>3.0</td>\n",
       "      <td>44</td>\n",
       "      <td>NaN</td>\n",
       "    </tr>\n",
       "    <tr>\n",
       "      <th>2376</th>\n",
       "      <td>2016</td>\n",
       "      <td>SV</td>\n",
       "      <td>NaN</td>\n",
       "      <td>3.0</td>\n",
       "      <td>NaN</td>\n",
       "      <td>NaN</td>\n",
       "    </tr>\n",
       "    <tr>\n",
       "      <th>2377</th>\n",
       "      <td>2016</td>\n",
       "      <td>SV</td>\n",
       "      <td>NaN</td>\n",
       "      <td>3.0</td>\n",
       "      <td>55</td>\n",
       "      <td>NaN</td>\n",
       "    </tr>\n",
       "    <tr>\n",
       "      <th>2378</th>\n",
       "      <td>2016</td>\n",
       "      <td>SV</td>\n",
       "      <td>NaN</td>\n",
       "      <td>3.0</td>\n",
       "      <td>55</td>\n",
       "      <td>NaN</td>\n",
       "    </tr>\n",
       "    <tr>\n",
       "      <th>2379</th>\n",
       "      <td>2016</td>\n",
       "      <td>SV</td>\n",
       "      <td>NaN</td>\n",
       "      <td>3.0</td>\n",
       "      <td>55</td>\n",
       "      <td>NaN</td>\n",
       "    </tr>\n",
       "  </tbody>\n",
       "</table>\n",
       "</div>"
      ],
      "text/plain": [
       "      year location track  week rating pace\n",
       "2375  2016       SV   NaN   3.0     44  NaN\n",
       "2376  2016       SV   NaN   3.0    NaN  NaN\n",
       "2377  2016       SV   NaN   3.0     55  NaN\n",
       "2378  2016       SV   NaN   3.0     55  NaN\n",
       "2379  2016       SV   NaN   3.0     55  NaN"
      ]
     },
     "execution_count": 13,
     "metadata": {},
     "output_type": "execute_result"
    }
   ],
   "source": [
    "# Before cleaning and adding nps_score\n",
    "summer_df.tail()"
   ]
  },
  {
   "cell_type": "code",
   "execution_count": 14,
   "metadata": {
    "slideshow": {
     "slide_type": "subslide"
    }
   },
   "outputs": [],
   "source": [
    "# raname city names\n",
    "def rename_city(value):\n",
    "    if value is np.nan:\n",
    "        return np.nan\n",
    "    \n",
    "    name = value\n",
    "    if name == \"SF\":\n",
    "        return \"San Francisco\"\n",
    "    elif name == \"NY\":\n",
    "        return \"New York City\"\n",
    "    elif name == \"SC\":\n",
    "        return \"Santa Clara\"\n",
    "    elif name == \"LA\":\n",
    "        return \"Los Angeles\"\n",
    "    elif name == \"HK\":\n",
    "        return \"Hong Kong\"\n",
    "    elif name == \"SG\":\n",
    "        return \"Singapore\"\n",
    "    elif name == \"SV\":\n",
    "        return \"Sunnyvale\"\n",
    "    else:\n",
    "        return name\n",
    "    \n",
    "summer_df.location = summer_df.location.apply(rename_city)"
   ]
  },
  {
   "cell_type": "code",
   "execution_count": 15,
   "metadata": {
    "scrolled": true,
    "slideshow": {
     "slide_type": "skip"
    }
   },
   "outputs": [
    {
     "data": {
      "text/plain": [
       "San Francisco    644\n",
       "New York City    495\n",
       "Sunnyvale        314\n",
       "Santa Clara      193\n",
       "Los Angeles      162\n",
       "Tokyo             77\n",
       "Beijing           70\n",
       "Chicago           67\n",
       "Redwood City      53\n",
       "Singapore         48\n",
       "Oakland           47\n",
       "Washington DC     45\n",
       "Atlanta           33\n",
       "Taipei            23\n",
       "Hong Kong         16\n",
       "Name: location, dtype: int64"
      ]
     },
     "execution_count": 15,
     "metadata": {},
     "output_type": "execute_result"
    }
   ],
   "source": [
    "summer_df.location.value_counts()"
   ]
  },
  {
   "cell_type": "code",
   "execution_count": 16,
   "metadata": {
    "slideshow": {
     "slide_type": "subslide"
    }
   },
   "outputs": [],
   "source": [
    "# clean ratings by mapping values to nan if they're not numbers\n",
    "summer_df.rating = summer_df.rating.apply(only_numbers)\n",
    "\n",
    "# keep rows vs dropping them\n",
    "# summer_df.dropna(subset=['rating'], inplace=True)"
   ]
  },
  {
   "cell_type": "code",
   "execution_count": 17,
   "metadata": {
    "slideshow": {
     "slide_type": "subslide"
    }
   },
   "outputs": [],
   "source": [
    "# add nps\n",
    "def map_nps_score(value):\n",
    "    if value is np.nan:\n",
    "        return np.nan\n",
    "    \n",
    "    try:\n",
    "        rating = int(value)\n",
    "        if rating < 0 or rating > 10:\n",
    "            return np.nan\n",
    "    \n",
    "        if rating >= 9:\n",
    "            return 1\n",
    "        elif rating >= 7:\n",
    "            return 0\n",
    "        else:\n",
    "            return -1\n",
    "        \n",
    "    except ValueError:\n",
    "        return np.nan\n",
    "    \n",
    "summer_df['nps_score'] = summer_df.rating.apply(map_nps_score)"
   ]
  },
  {
   "cell_type": "code",
   "execution_count": 18,
   "metadata": {
    "slideshow": {
     "slide_type": "slide"
    }
   },
   "outputs": [
    {
     "data": {
      "text/html": [
       "<div>\n",
       "<style scoped>\n",
       "    .dataframe tbody tr th:only-of-type {\n",
       "        vertical-align: middle;\n",
       "    }\n",
       "\n",
       "    .dataframe tbody tr th {\n",
       "        vertical-align: top;\n",
       "    }\n",
       "\n",
       "    .dataframe thead th {\n",
       "        text-align: right;\n",
       "    }\n",
       "</style>\n",
       "<table border=\"1\" class=\"dataframe\">\n",
       "  <thead>\n",
       "    <tr style=\"text-align: right;\">\n",
       "      <th></th>\n",
       "      <th>year</th>\n",
       "      <th>location</th>\n",
       "      <th>track</th>\n",
       "      <th>week</th>\n",
       "      <th>rating</th>\n",
       "      <th>pace</th>\n",
       "      <th>nps_score</th>\n",
       "    </tr>\n",
       "  </thead>\n",
       "  <tbody>\n",
       "    <tr>\n",
       "      <th>2375</th>\n",
       "      <td>2016</td>\n",
       "      <td>Sunnyvale</td>\n",
       "      <td>NaN</td>\n",
       "      <td>3.0</td>\n",
       "      <td>44.0</td>\n",
       "      <td>NaN</td>\n",
       "      <td>NaN</td>\n",
       "    </tr>\n",
       "    <tr>\n",
       "      <th>2376</th>\n",
       "      <td>2016</td>\n",
       "      <td>Sunnyvale</td>\n",
       "      <td>NaN</td>\n",
       "      <td>3.0</td>\n",
       "      <td>NaN</td>\n",
       "      <td>NaN</td>\n",
       "      <td>NaN</td>\n",
       "    </tr>\n",
       "    <tr>\n",
       "      <th>2377</th>\n",
       "      <td>2016</td>\n",
       "      <td>Sunnyvale</td>\n",
       "      <td>NaN</td>\n",
       "      <td>3.0</td>\n",
       "      <td>55.0</td>\n",
       "      <td>NaN</td>\n",
       "      <td>NaN</td>\n",
       "    </tr>\n",
       "    <tr>\n",
       "      <th>2378</th>\n",
       "      <td>2016</td>\n",
       "      <td>Sunnyvale</td>\n",
       "      <td>NaN</td>\n",
       "      <td>3.0</td>\n",
       "      <td>55.0</td>\n",
       "      <td>NaN</td>\n",
       "      <td>NaN</td>\n",
       "    </tr>\n",
       "    <tr>\n",
       "      <th>2379</th>\n",
       "      <td>2016</td>\n",
       "      <td>Sunnyvale</td>\n",
       "      <td>NaN</td>\n",
       "      <td>3.0</td>\n",
       "      <td>55.0</td>\n",
       "      <td>NaN</td>\n",
       "      <td>NaN</td>\n",
       "    </tr>\n",
       "  </tbody>\n",
       "</table>\n",
       "</div>"
      ],
      "text/plain": [
       "      year   location track  week  rating pace  nps_score\n",
       "2375  2016  Sunnyvale   NaN   3.0    44.0  NaN        NaN\n",
       "2376  2016  Sunnyvale   NaN   3.0     NaN  NaN        NaN\n",
       "2377  2016  Sunnyvale   NaN   3.0    55.0  NaN        NaN\n",
       "2378  2016  Sunnyvale   NaN   3.0    55.0  NaN        NaN\n",
       "2379  2016  Sunnyvale   NaN   3.0    55.0  NaN        NaN"
      ]
     },
     "execution_count": 18,
     "metadata": {},
     "output_type": "execute_result"
    }
   ],
   "source": [
    "# After cleaning\n",
    "summer_df.tail()"
   ]
  },
  {
   "cell_type": "markdown",
   "metadata": {
    "slideshow": {
     "slide_type": "slide"
    }
   },
   "source": [
    "# Reports"
   ]
  },
  {
   "cell_type": "code",
   "execution_count": 73,
   "metadata": {
    "slideshow": {
     "slide_type": "subslide"
    }
   },
   "outputs": [
    {
     "data": {
      "text/plain": [
       "'The nps is 44.9%'"
      ]
     },
     "metadata": {},
     "output_type": "display_data"
    },
    {
     "data": {
      "text/plain": [
       " 1.0    741\n",
       " 0.0    551\n",
       "-1.0    111\n",
       "Name: nps_score, dtype: int64"
      ]
     },
     "metadata": {},
     "output_type": "display_data"
    }
   ],
   "source": [
    "# NPS for 2016\n",
    "nps_df = summer_df[summer_df.year == 2017].dropna(subset=['rating'])\n",
    "\n",
    "def calc_nps(data_frame):\n",
    "    data_frame_size = len(data_frame)\n",
    "    promoter_avg = len(data_frame[data_frame.nps_score == 1.0]) / data_frame_size\n",
    "    passive_avg = len(data_frame[data_frame.nps_score == 0.0]) / data_frame_size\n",
    "    detractor_avg = len(data_frame[data_frame.nps_score == -1.0]) / data_frame_size\n",
    "\n",
    "    nps_value = promoter_avg - detractor_avg\n",
    "    \n",
    "    return nps_value * 100\n",
    "    \n",
    "display(\"The nps is {:0.1f}%\".format(calc_nps(nps_df)))\n",
    "display(nps_df.nps_score.value_counts())"
   ]
  },
  {
   "cell_type": "markdown",
   "metadata": {
    "slideshow": {
     "slide_type": "slide"
    }
   },
   "source": [
    "# Questions to Ask\n",
    "\n",
    "1. Did Sunnyvale drop from 2017 because of NPS?\n",
    "1. Per week, which location did the best in each week in overall nps (line chart)\n",
    "1. Per location, which track did had the most promoters (bar chart)"
   ]
  },
  {
   "cell_type": "code",
   "execution_count": 39,
   "metadata": {
    "slideshow": {
     "slide_type": "skip"
    }
   },
   "outputs": [
    {
     "data": {
      "text/html": [
       "<div>\n",
       "<style scoped>\n",
       "    .dataframe tbody tr th:only-of-type {\n",
       "        vertical-align: middle;\n",
       "    }\n",
       "\n",
       "    .dataframe tbody tr th {\n",
       "        vertical-align: top;\n",
       "    }\n",
       "\n",
       "    .dataframe thead th {\n",
       "        text-align: right;\n",
       "    }\n",
       "</style>\n",
       "<table border=\"1\" class=\"dataframe\">\n",
       "  <thead>\n",
       "    <tr style=\"text-align: right;\">\n",
       "      <th></th>\n",
       "      <th>year</th>\n",
       "      <th>location</th>\n",
       "      <th>track</th>\n",
       "      <th>week</th>\n",
       "      <th>rating</th>\n",
       "      <th>pace</th>\n",
       "      <th>nps_score</th>\n",
       "    </tr>\n",
       "  </thead>\n",
       "  <tbody>\n",
       "    <tr>\n",
       "      <th>0</th>\n",
       "      <td>2017</td>\n",
       "      <td>Oakland</td>\n",
       "      <td>Apps</td>\n",
       "      <td>1.0</td>\n",
       "      <td>8.0</td>\n",
       "      <td>A little too fast</td>\n",
       "      <td>0.0</td>\n",
       "    </tr>\n",
       "    <tr>\n",
       "      <th>1</th>\n",
       "      <td>2017</td>\n",
       "      <td>Santa Clara</td>\n",
       "      <td>Games</td>\n",
       "      <td>3.0</td>\n",
       "      <td>6.0</td>\n",
       "      <td>Way too slow</td>\n",
       "      <td>-1.0</td>\n",
       "    </tr>\n",
       "    <tr>\n",
       "      <th>2</th>\n",
       "      <td>2017</td>\n",
       "      <td>Oakland</td>\n",
       "      <td>Apps</td>\n",
       "      <td>1.0</td>\n",
       "      <td>8.0</td>\n",
       "      <td>A little too fast</td>\n",
       "      <td>0.0</td>\n",
       "    </tr>\n",
       "    <tr>\n",
       "      <th>3</th>\n",
       "      <td>2017</td>\n",
       "      <td>New York City</td>\n",
       "      <td>Apps, Explorer</td>\n",
       "      <td>1.0</td>\n",
       "      <td>8.0</td>\n",
       "      <td>A little too fast</td>\n",
       "      <td>0.0</td>\n",
       "    </tr>\n",
       "    <tr>\n",
       "      <th>4</th>\n",
       "      <td>2017</td>\n",
       "      <td>Santa Clara</td>\n",
       "      <td>Games, Explorer</td>\n",
       "      <td>3.0</td>\n",
       "      <td>9.0</td>\n",
       "      <td>Just right</td>\n",
       "      <td>1.0</td>\n",
       "    </tr>\n",
       "  </tbody>\n",
       "</table>\n",
       "</div>"
      ],
      "text/plain": [
       "   year       location            track  week  rating               pace  \\\n",
       "0  2017        Oakland             Apps   1.0     8.0  A little too fast   \n",
       "1  2017    Santa Clara            Games   3.0     6.0       Way too slow   \n",
       "2  2017        Oakland             Apps   1.0     8.0  A little too fast   \n",
       "3  2017  New York City   Apps, Explorer   1.0     8.0  A little too fast   \n",
       "4  2017    Santa Clara  Games, Explorer   3.0     9.0         Just right   \n",
       "\n",
       "   nps_score  \n",
       "0        0.0  \n",
       "1       -1.0  \n",
       "2        0.0  \n",
       "3        0.0  \n",
       "4        1.0  "
      ]
     },
     "execution_count": 39,
     "metadata": {},
     "output_type": "execute_result"
    }
   ],
   "source": [
    "\n",
    "# MatPlotLib is a library for basic data visualization\n",
    "import matplotlib.pyplot as plt\n",
    "\n",
    "summer_df.head()"
   ]
  },
  {
   "cell_type": "code",
   "execution_count": 81,
   "metadata": {
    "slideshow": {
     "slide_type": "subslide"
    }
   },
   "outputs": [
    {
     "data": {
      "text/plain": [
       "(-1.1022874293763554,\n",
       " 1.100108925208398,\n",
       " -1.102530489176203,\n",
       " 1.1045319079002727)"
      ]
     },
     "execution_count": 81,
     "metadata": {},
     "output_type": "execute_result"
    },
    {
     "data": {
      "image/png": "[encoded data removed]",
      "text/plain": [
       "<Figure size 720x360 with 1 Axes>"
      ]
     },
     "metadata": {},
     "output_type": "display_data"
    }
   ],
   "source": [
    "df = summer_df[summer_df.year == 2016]\n",
    "\n",
    "# Now, let's initialize our plotting space in MatPlotLib.\n",
    "fig, axs = plt.subplots(figsize=(10, 5))\n",
    "location_counts = df.location.value_counts()\n",
    "locations = location_counts.index\n",
    "\n",
    "# Draw the circle\n",
    "plt.pie(location_counts.values, labels=locations, autopct='%1.1f%%', shadow=True)\n",
    "centre_circle = plt.Circle((0,0),0.75,color='black', fc='white',linewidth=1.25)\n",
    "\n",
    "fig = plt.gcf()\n",
    "fig.gca().add_artist(centre_circle)\n",
    "\n",
    "plt.axis('equal')"
   ]
  },
  {
   "cell_type": "code",
   "execution_count": 100,
   "metadata": {
    "slideshow": {
     "slide_type": "subslide"
    }
   },
   "outputs": [
    {
     "data": {
      "text/plain": [
       "<matplotlib.axes._subplots.AxesSubplot at 0x1a16479860>"
      ]
     },
     "metadata": {},
     "output_type": "display_data"
    },
    {
     "data": {
      "image/png": "[encoded data removed]",
      "text/plain": [
       "<Figure size 432x288 with 1 Axes>"
      ]
     },
     "metadata": {},
     "output_type": "display_data"
    }
   ],
   "source": [
    "s_student_counts = df.location.value_counts()\n",
    "\n",
    "plot = sns.barplot(x=s_student_counts.index, y=s_student_counts.values)\n",
    "\n",
    "plot.set_xticklabels(s_student_counts.index, rotation=45)\n",
    "plot.set_ylabel(\"Number of Entries\")\n",
    "display(plot)"
   ]
  },
  {
   "cell_type": "code",
   "execution_count": 101,
   "metadata": {},
   "outputs": [
    {
     "data": {
      "text/plain": [
       "12.420382165605096"
      ]
     },
     "execution_count": 101,
     "metadata": {},
     "output_type": "execute_result"
    }
   ],
   "source": [
    "calc_nps(summer_df[summer_df.location == \"Sunnyvale\"])"
   ]
  },
  {
   "cell_type": "code",
   "execution_count": null,
   "metadata": {},
   "outputs": [],
   "source": []
  }
 ],
 "metadata": {
  "celltoolbar": "Slideshow",
  "kernelspec": {
   "display_name": "Python 3",
   "language": "python",
   "name": "python3"
  },
  "language_info": {
   "codemirror_mode": {
    "name": "ipython",
    "version": 3
   },
   "file_extension": ".py",
   "mimetype": "text/x-python",
   "name": "python",
   "nbconvert_exporter": "python",
   "pygments_lexer": "ipython3",
   "version": "3.6.5"
  }
 },
 "nbformat": 4,
 "nbformat_minor": 2
}
