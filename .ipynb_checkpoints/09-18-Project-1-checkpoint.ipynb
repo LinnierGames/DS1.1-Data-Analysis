{
 "cells": [
  {
   "cell_type": "code",
   "execution_count": 1,
   "metadata": {
    "slideshow": {
     "slide_type": "skip"
    }
   },
   "outputs": [],
   "source": [
    "import pandas as pd\n",
    "import numpy as np\n",
    "import seaborn as sns\n",
    "%matplotlib inline\n",
    "\n",
    "# Please dont change this--otherwise, you'll get different results from everyone else!\n",
    "np.random.seed(1547)\n",
    "\n",
    "DATASET_FOLDER = 'datasets/SA Feedback Surveys_FINAL'"
   ]
  },
  {
   "cell_type": "markdown",
   "metadata": {
    "slideshow": {
     "slide_type": "slide"
    }
   },
   "source": [
    "# Intialize df from 2017"
   ]
  },
  {
   "cell_type": "markdown",
   "metadata": {
    "slideshow": {
     "slide_type": "slide"
    }
   },
   "source": [
    "![game plan](./images/project-01-gameplan-1.png)"
   ]
  },
  {
   "cell_type": "code",
   "execution_count": 2,
   "metadata": {
    "scrolled": true,
    "slideshow": {
     "slide_type": "subslide"
    }
   },
   "outputs": [
    {
     "data": {
      "text/html": [
       "<div>\n",
       "<style scoped>\n",
       "    .dataframe tbody tr th:only-of-type {\n",
       "        vertical-align: middle;\n",
       "    }\n",
       "\n",
       "    .dataframe tbody tr th {\n",
       "        vertical-align: top;\n",
       "    }\n",
       "\n",
       "    .dataframe thead th {\n",
       "        text-align: right;\n",
       "    }\n",
       "</style>\n",
       "<table border=\"1\" class=\"dataframe\">\n",
       "  <thead>\n",
       "    <tr style=\"text-align: right;\">\n",
       "      <th></th>\n",
       "      <th>ID</th>\n",
       "      <th>Location</th>\n",
       "      <th>Track</th>\n",
       "      <th>Week</th>\n",
       "      <th>Rating (Num)</th>\n",
       "      <th>Schedule Pacing</th>\n",
       "    </tr>\n",
       "  </thead>\n",
       "  <tbody>\n",
       "    <tr>\n",
       "      <th>0</th>\n",
       "      <td>134</td>\n",
       "      <td>San Francisco</td>\n",
       "      <td>Apps, Explorer</td>\n",
       "      <td>Week 1</td>\n",
       "      <td>3</td>\n",
       "      <td>Just right</td>\n",
       "    </tr>\n",
       "  </tbody>\n",
       "</table>\n",
       "</div>"
      ],
      "text/plain": [
       "    ID       Location           Track    Week Rating (Num) Schedule Pacing\n",
       "0  134  San Francisco  Apps, Explorer  Week 1            3      Just right"
      ]
     },
     "execution_count": 2,
     "metadata": {},
     "output_type": "execute_result"
    }
   ],
   "source": [
    "# get df for 2017\n",
    "df_2017 = pd.read_csv(DATASET_FOLDER + '/2017/Student Feedback Surveys-Superview.csv')\n",
    "df_2017.head(1)"
   ]
  },
  {
   "cell_type": "code",
   "execution_count": 3,
   "metadata": {
    "slideshow": {
     "slide_type": "subslide"
    }
   },
   "outputs": [],
   "source": [
    "# new dataframe series=[\"id\", \"year\", \"location\", \"track\", \"week\", \"rating\": categorical, \"pace\": categorical]\n",
    "# set the index of the df\n",
    "df = pd.DataFrame(index=df_2017.ID)\n",
    "df.index.rename(\"id\", inplace=True)"
   ]
  },
  {
   "cell_type": "code",
   "execution_count": 4,
   "metadata": {
    "slideshow": {
     "slide_type": "subslide"
    }
   },
   "outputs": [],
   "source": [
    "# set series from the df_2017 to the df\n",
    "df['year'] = 2017\n",
    "\n",
    "# location\n",
    "df['location'] = df_2017.Location\n",
    "\n",
    "# track\n",
    "df['track'] = df_2017.Track\n",
    "\n",
    "# week\n",
    "def to_integer(value):\n",
    "    return int(float(value))\n",
    "\n",
    "def get_int_from_week(value):\n",
    "    return int(float(value[-1]))\n",
    "\n",
    "def only_numbers(value):\n",
    "    try:\n",
    "        return int(float(value))\n",
    "    except ValueError:\n",
    "        return np.nan\n",
    "\n",
    "df['week'] = df_2017.Week.apply(get_int_from_week).apply(to_integer).astype(int)\n",
    "\n",
    "# rating\n",
    "df['rating'] = pd.Series(df_2017['Rating (Num)'], dtype=\"category\")\n",
    "\n",
    "# pace\n",
    "def titles_to_ints(value):\n",
    "    if value is np.nan:\n",
    "        return np.nan\n",
    "    \n",
    "    if value == \"Way too slow\":\n",
    "        return 1\n",
    "    elif value == \"A little too slow\":\n",
    "        return 2\n",
    "    elif value == \"Just right\":\n",
    "        return 3\n",
    "    elif value == \"A little too fast\":\n",
    "        return 4\n",
    "    elif value == \"Way too fast\":\n",
    "        return 5\n",
    "    \n",
    "df['pace'] = pd.Series(df_2017['Schedule Pacing']).apply(titles_to_ints).astype('float')"
   ]
  },
  {
   "cell_type": "code",
   "execution_count": 5,
   "metadata": {
    "slideshow": {
     "slide_type": "subslide"
    }
   },
   "outputs": [
    {
     "data": {
      "text/html": [
       "<div>\n",
       "<style scoped>\n",
       "    .dataframe tbody tr th:only-of-type {\n",
       "        vertical-align: middle;\n",
       "    }\n",
       "\n",
       "    .dataframe tbody tr th {\n",
       "        vertical-align: top;\n",
       "    }\n",
       "\n",
       "    .dataframe thead th {\n",
       "        text-align: right;\n",
       "    }\n",
       "</style>\n",
       "<table border=\"1\" class=\"dataframe\">\n",
       "  <thead>\n",
       "    <tr style=\"text-align: right;\">\n",
       "      <th></th>\n",
       "      <th>year</th>\n",
       "      <th>location</th>\n",
       "      <th>track</th>\n",
       "      <th>week</th>\n",
       "      <th>rating</th>\n",
       "      <th>pace</th>\n",
       "    </tr>\n",
       "    <tr>\n",
       "      <th>id</th>\n",
       "      <th></th>\n",
       "      <th></th>\n",
       "      <th></th>\n",
       "      <th></th>\n",
       "      <th></th>\n",
       "      <th></th>\n",
       "    </tr>\n",
       "  </thead>\n",
       "  <tbody>\n",
       "    <tr>\n",
       "      <th>134</th>\n",
       "      <td>2017</td>\n",
       "      <td>Oakland</td>\n",
       "      <td>Apps</td>\n",
       "      <td>1.0</td>\n",
       "      <td>8</td>\n",
       "      <td>4.0</td>\n",
       "    </tr>\n",
       "    <tr>\n",
       "      <th>36</th>\n",
       "      <td>2017</td>\n",
       "      <td>Santa Clara</td>\n",
       "      <td>Games</td>\n",
       "      <td>3.0</td>\n",
       "      <td>6</td>\n",
       "      <td>1.0</td>\n",
       "    </tr>\n",
       "    <tr>\n",
       "      <th>117</th>\n",
       "      <td>2017</td>\n",
       "      <td>Oakland</td>\n",
       "      <td>Apps</td>\n",
       "      <td>1.0</td>\n",
       "      <td>8</td>\n",
       "      <td>4.0</td>\n",
       "    </tr>\n",
       "    <tr>\n",
       "      <th>253</th>\n",
       "      <td>2017</td>\n",
       "      <td>New York City</td>\n",
       "      <td>Apps, Explorer</td>\n",
       "      <td>1.0</td>\n",
       "      <td>8</td>\n",
       "      <td>4.0</td>\n",
       "    </tr>\n",
       "    <tr>\n",
       "      <th>350</th>\n",
       "      <td>2017</td>\n",
       "      <td>Santa Clara</td>\n",
       "      <td>Games, Explorer</td>\n",
       "      <td>3.0</td>\n",
       "      <td>9</td>\n",
       "      <td>3.0</td>\n",
       "    </tr>\n",
       "  </tbody>\n",
       "</table>\n",
       "</div>"
      ],
      "text/plain": [
       "     year       location            track  week rating  pace\n",
       "id                                                          \n",
       "134  2017        Oakland             Apps   1.0      8   4.0\n",
       "36   2017    Santa Clara            Games   3.0      6   1.0\n",
       "117  2017        Oakland             Apps   1.0      8   4.0\n",
       "253  2017  New York City   Apps, Explorer   1.0      8   4.0\n",
       "350  2017    Santa Clara  Games, Explorer   3.0      9   3.0"
      ]
     },
     "execution_count": 5,
     "metadata": {},
     "output_type": "execute_result"
    }
   ],
   "source": [
    "df.head()"
   ]
  },
  {
   "cell_type": "code",
   "execution_count": 6,
   "metadata": {
    "slideshow": {
     "slide_type": "subslide"
    }
   },
   "outputs": [
    {
     "data": {
      "text/plain": [
       "year           int64\n",
       "location      object\n",
       "track         object\n",
       "week         float64\n",
       "rating      category\n",
       "pace         float64\n",
       "dtype: object"
      ]
     },
     "execution_count": 6,
     "metadata": {},
     "output_type": "execute_result"
    }
   ],
   "source": [
    "df.dtypes"
   ]
  },
  {
   "cell_type": "markdown",
   "metadata": {
    "slideshow": {
     "slide_type": "slide"
    }
   },
   "source": [
    "# Collecting all CSVs from the 2016 folder"
   ]
  },
  {
   "cell_type": "markdown",
   "metadata": {
    "slideshow": {
     "slide_type": "slide"
    }
   },
   "source": [
    "![game plan](./images/project-01-gameplan-2.png)"
   ]
  },
  {
   "cell_type": "code",
   "execution_count": 7,
   "metadata": {
    "slideshow": {
     "slide_type": "subslide"
    }
   },
   "outputs": [
    {
     "data": {
      "text/html": [
       "<div>\n",
       "<style scoped>\n",
       "    .dataframe tbody tr th:only-of-type {\n",
       "        vertical-align: middle;\n",
       "    }\n",
       "\n",
       "    .dataframe tbody tr th {\n",
       "        vertical-align: top;\n",
       "    }\n",
       "\n",
       "    .dataframe thead th {\n",
       "        text-align: right;\n",
       "    }\n",
       "</style>\n",
       "<table border=\"1\" class=\"dataframe\">\n",
       "  <thead>\n",
       "    <tr style=\"text-align: right;\">\n",
       "      <th></th>\n",
       "      <th>pace</th>\n",
       "      <th>rating</th>\n",
       "      <th>track</th>\n",
       "      <th>location</th>\n",
       "      <th>week</th>\n",
       "      <th>year</th>\n",
       "    </tr>\n",
       "  </thead>\n",
       "  <tbody>\n",
       "    <tr>\n",
       "      <th>0</th>\n",
       "      <td>3</td>\n",
       "      <td>6</td>\n",
       "      <td>NaN</td>\n",
       "      <td>Taipei</td>\n",
       "      <td>7</td>\n",
       "      <td>2016</td>\n",
       "    </tr>\n",
       "  </tbody>\n",
       "</table>\n",
       "</div>"
      ],
      "text/plain": [
       "  pace rating track location week  year\n",
       "0    3      6   NaN   Taipei    7  2016"
      ]
     },
     "execution_count": 7,
     "metadata": {},
     "output_type": "execute_result"
    }
   ],
   "source": [
    "# collect all filenames\n",
    "from os import walk\n",
    "import re\n",
    "\n",
    "DATASET_2016_FOLDER = DATASET_FOLDER + '/2016'\n",
    "\n",
    "filenames = []\n",
    "for (dirpath, dirnames, f) in walk(DATASET_2016_FOLDER):\n",
    "    filenames.extend(f)\n",
    "    break\n",
    "\n",
    "# create empty df\n",
    "df_2016 = pd.DataFrame([], columns=[\"pace\", \"rating\", \"track\", \"location\", \"week\"])\n",
    "\n",
    "for a_filename in filenames:\n",
    "    \n",
    "    # collect week, location\n",
    "    m = re.search('Anon Week (\\d) Feedback - (.*)\\.csv', a_filename)\n",
    "    if m is None:\n",
    "        continue\n",
    "        \n",
    "    week_number = m.group(1)\n",
    "    location_title = m.group(2)\n",
    "    \n",
    "    # read csv (rating, pace, track?) and append series to the df_2016\n",
    "    a_df = pd.read_csv(DATASET_2016_FOLDER + '/' + a_filename)\n",
    "    \n",
    "    to_append = pd.DataFrame()\n",
    "    \n",
    "    try:\n",
    "        to_append['track'] = a_df['How well is the schedule paced??']\n",
    "        # display(\"Track: OK\")\n",
    "    except KeyError:\n",
    "        # display(\"Track: error\")\n",
    "        to_append['track'] = np.nan\n",
    "        \n",
    "    try:\n",
    "        to_append['rating'] = a_df['How would you rate your overall satisfaction with the Summer Academy this week?']\n",
    "        # display(\"Rating: OK\")\n",
    "    except KeyError:\n",
    "        # display(\"Rating: error\")\n",
    "        to_append['rating'] = np.nan\n",
    "    \n",
    "    try:\n",
    "        to_append['pace'] = a_df['How well is the schedule paced?']\n",
    "        # display(\"Track: OK\")\n",
    "    except KeyError:\n",
    "        # display(\"Track: error\")\n",
    "        to_append['pace'] = np.nan\n",
    "        \n",
    "    to_append['week'] = week_number\n",
    "    to_append['location'] = location_title\n",
    "    to_append.rating = to_append.rating.apply(lambda i: i * 2)\n",
    "        \n",
    "    df_2016 = df_2016.append(to_append, ignore_index=True, sort=False)\n",
    "    \n",
    "# Collect Week 8 Feedback (2016, incomplete) - results.csv\n",
    "to_append = pd.DataFrame()\n",
    "week8_df = pd.read_csv(DATASET_2016_FOLDER + '/' + \"Week 8 Feedback (2016, incomplete) - results.csv\")\n",
    "\n",
    "try:\n",
    "    to_append['track'] = week8_df['track']\n",
    "    # display(\"Track: OK\")\n",
    "except KeyError:\n",
    "    # display(\"Track: error\")\n",
    "    to_append['track'] = np.nan\n",
    "\n",
    "try:\n",
    "    to_append['rating'] = week8_df['How likely is it that you would recommend the Make School Summer Academy to a friend?']\n",
    "    # display(\"Rating: OK\")\n",
    "except KeyError:\n",
    "    # display(\"Rating: error\")\n",
    "    to_append['rating'] = np.nan\n",
    "\n",
    "try:\n",
    "    to_append['location'] = week8_df['location']\n",
    "    # display(\"Rating: OK\")\n",
    "except KeyError:\n",
    "    # display(\"Rating: error\")\n",
    "    to_append['location'] = np.nan\n",
    "\n",
    "to_append['pace'] = np.nan\n",
    "to_append['week'] = 8\n",
    "\n",
    "df_2016 = df_2016.append(to_append, ignore_index=True, sort=False)\n",
    "    \n",
    "df_2016['year'] = 2016\n",
    "df_2016.head(1)"
   ]
  },
  {
   "cell_type": "code",
   "execution_count": 8,
   "metadata": {
    "scrolled": true,
    "slideshow": {
     "slide_type": "subslide"
    }
   },
   "outputs": [
    {
     "data": {
      "text/plain": [
       "3        430\n",
       "4        163\n",
       "2         44\n",
       "5         31\n",
       "3         20\n",
       "4         10\n",
       "1          6\n",
       "2          4\n",
       "5          2\n",
       "#REF!      1\n",
       "Name: pace, dtype: int64"
      ]
     },
     "execution_count": 8,
     "metadata": {},
     "output_type": "execute_result"
    }
   ],
   "source": [
    "df_2016.pace.value_counts()"
   ]
  },
  {
   "cell_type": "markdown",
   "metadata": {
    "slideshow": {
     "slide_type": "slide"
    }
   },
   "source": [
    "# Format the 2016 df to match the desired data types"
   ]
  },
  {
   "cell_type": "markdown",
   "metadata": {
    "slideshow": {
     "slide_type": "slide"
    }
   },
   "source": [
    "![game plan](./images/project-01-gameplan-3.png)"
   ]
  },
  {
   "cell_type": "code",
   "execution_count": 9,
   "metadata": {
    "slideshow": {
     "slide_type": "subslide"
    }
   },
   "outputs": [],
   "source": [
    "# Week\n",
    "df_2016.week = df_2016.week.apply(to_integer)\n",
    "\n",
    "# rating\n",
    "df_2016.rating = df_2016.rating.astype('category')\n",
    "\n",
    "# pace\n",
    "def pace_from_ints_to_strings(value):\n",
    "    if value is np.nan:\n",
    "        return np.nan\n",
    "    \n",
    "    if value is not int or int(value) < 1 or int(value) > 5:\n",
    "        return np.nan\n",
    "    \n",
    "    int_value = int(value)\n",
    "    \n",
    "    return value\n",
    "    \n",
    "    # use numbers vs strings\n",
    "    if int_value == 1:\n",
    "        return \"Way too slow\"\n",
    "    elif int_value == 2:\n",
    "        return \"A little too slow\"\n",
    "    elif int_value == 3:\n",
    "        return \"Just right\"\n",
    "    elif int_value == 4:\n",
    "        return \"A little too fast\"\n",
    "    elif int_value == 5:\n",
    "        return \"Way too fast\"\n",
    "        \n",
    "df_2016.pace = df_2016.pace.apply(only_numbers).astype('float')\n",
    "\n",
    "# use nan if rating is not a number\n",
    "df_2016.rating = df_2016.rating.apply(only_numbers)"
   ]
  },
  {
   "cell_type": "markdown",
   "metadata": {
    "slideshow": {
     "slide_type": "slide"
    }
   },
   "source": [
    "# Join two dfs"
   ]
  },
  {
   "cell_type": "markdown",
   "metadata": {
    "slideshow": {
     "slide_type": "skip"
    }
   },
   "source": [
    "![game plan](./images/project-01-gameplan-3.png)"
   ]
  },
  {
   "cell_type": "code",
   "execution_count": 10,
   "metadata": {
    "slideshow": {
     "slide_type": "subslide"
    }
   },
   "outputs": [],
   "source": [
    "summer_df = df.append(df_2016, ignore_index=True, sort=False)"
   ]
  },
  {
   "cell_type": "code",
   "execution_count": 11,
   "metadata": {
    "slideshow": {
     "slide_type": "subslide"
    }
   },
   "outputs": [
    {
     "data": {
      "text/plain": [
       "year          int64\n",
       "location     object\n",
       "track        object\n",
       "week        float64\n",
       "rating       object\n",
       "pace        float64\n",
       "dtype: object"
      ]
     },
     "execution_count": 11,
     "metadata": {},
     "output_type": "execute_result"
    }
   ],
   "source": [
    "summer_df.dtypes"
   ]
  },
  {
   "cell_type": "code",
   "execution_count": 12,
   "metadata": {
    "slideshow": {
     "slide_type": "subslide"
    }
   },
   "outputs": [
    {
     "data": {
      "text/html": [
       "<div>\n",
       "<style scoped>\n",
       "    .dataframe tbody tr th:only-of-type {\n",
       "        vertical-align: middle;\n",
       "    }\n",
       "\n",
       "    .dataframe tbody tr th {\n",
       "        vertical-align: top;\n",
       "    }\n",
       "\n",
       "    .dataframe thead th {\n",
       "        text-align: right;\n",
       "    }\n",
       "</style>\n",
       "<table border=\"1\" class=\"dataframe\">\n",
       "  <thead>\n",
       "    <tr style=\"text-align: right;\">\n",
       "      <th></th>\n",
       "      <th>year</th>\n",
       "      <th>location</th>\n",
       "      <th>track</th>\n",
       "      <th>week</th>\n",
       "      <th>rating</th>\n",
       "      <th>pace</th>\n",
       "    </tr>\n",
       "  </thead>\n",
       "  <tbody>\n",
       "    <tr>\n",
       "      <th>0</th>\n",
       "      <td>2017</td>\n",
       "      <td>Oakland</td>\n",
       "      <td>Apps</td>\n",
       "      <td>1.0</td>\n",
       "      <td>8</td>\n",
       "      <td>4.0</td>\n",
       "    </tr>\n",
       "    <tr>\n",
       "      <th>1</th>\n",
       "      <td>2017</td>\n",
       "      <td>Santa Clara</td>\n",
       "      <td>Games</td>\n",
       "      <td>3.0</td>\n",
       "      <td>6</td>\n",
       "      <td>1.0</td>\n",
       "    </tr>\n",
       "    <tr>\n",
       "      <th>2</th>\n",
       "      <td>2017</td>\n",
       "      <td>Oakland</td>\n",
       "      <td>Apps</td>\n",
       "      <td>1.0</td>\n",
       "      <td>8</td>\n",
       "      <td>4.0</td>\n",
       "    </tr>\n",
       "    <tr>\n",
       "      <th>3</th>\n",
       "      <td>2017</td>\n",
       "      <td>New York City</td>\n",
       "      <td>Apps, Explorer</td>\n",
       "      <td>1.0</td>\n",
       "      <td>8</td>\n",
       "      <td>4.0</td>\n",
       "    </tr>\n",
       "    <tr>\n",
       "      <th>4</th>\n",
       "      <td>2017</td>\n",
       "      <td>Santa Clara</td>\n",
       "      <td>Games, Explorer</td>\n",
       "      <td>3.0</td>\n",
       "      <td>9</td>\n",
       "      <td>3.0</td>\n",
       "    </tr>\n",
       "  </tbody>\n",
       "</table>\n",
       "</div>"
      ],
      "text/plain": [
       "   year       location            track  week rating  pace\n",
       "0  2017        Oakland             Apps   1.0      8   4.0\n",
       "1  2017    Santa Clara            Games   3.0      6   1.0\n",
       "2  2017        Oakland             Apps   1.0      8   4.0\n",
       "3  2017  New York City   Apps, Explorer   1.0      8   4.0\n",
       "4  2017    Santa Clara  Games, Explorer   3.0      9   3.0"
      ]
     },
     "execution_count": 12,
     "metadata": {},
     "output_type": "execute_result"
    }
   ],
   "source": [
    "summer_df.head()"
   ]
  },
  {
   "cell_type": "markdown",
   "metadata": {
    "slideshow": {
     "slide_type": "slide"
    }
   },
   "source": [
    "# Cleaning the data\n",
    "\n",
    "### City Names\n",
    "Changes SF = San Francisco\n",
    "\n",
    "### Drop Records for Invalid Rating Data\n",
    "If a row has invalid rating data, drop it from the data frame\n",
    "\n",
    "### Create the `nps_score` Series\n",
    "Add a new series the represents if the row is a promoter, passive or a dectractor according the the `rating`"
   ]
  },
  {
   "cell_type": "code",
   "execution_count": 13,
   "metadata": {
    "slideshow": {
     "slide_type": "slide"
    }
   },
   "outputs": [
    {
     "data": {
      "text/html": [
       "<div>\n",
       "<style scoped>\n",
       "    .dataframe tbody tr th:only-of-type {\n",
       "        vertical-align: middle;\n",
       "    }\n",
       "\n",
       "    .dataframe tbody tr th {\n",
       "        vertical-align: top;\n",
       "    }\n",
       "\n",
       "    .dataframe thead th {\n",
       "        text-align: right;\n",
       "    }\n",
       "</style>\n",
       "<table border=\"1\" class=\"dataframe\">\n",
       "  <thead>\n",
       "    <tr style=\"text-align: right;\">\n",
       "      <th></th>\n",
       "      <th>year</th>\n",
       "      <th>location</th>\n",
       "      <th>track</th>\n",
       "      <th>week</th>\n",
       "      <th>rating</th>\n",
       "      <th>pace</th>\n",
       "    </tr>\n",
       "  </thead>\n",
       "  <tbody>\n",
       "    <tr>\n",
       "      <th>2440</th>\n",
       "      <td>2016</td>\n",
       "      <td>San Francisco</td>\n",
       "      <td>summerApps</td>\n",
       "      <td>8.0</td>\n",
       "      <td>9</td>\n",
       "      <td>NaN</td>\n",
       "    </tr>\n",
       "    <tr>\n",
       "      <th>2441</th>\n",
       "      <td>2016</td>\n",
       "      <td>San Francisco</td>\n",
       "      <td>summerVR</td>\n",
       "      <td>8.0</td>\n",
       "      <td>5</td>\n",
       "      <td>NaN</td>\n",
       "    </tr>\n",
       "    <tr>\n",
       "      <th>2442</th>\n",
       "      <td>2016</td>\n",
       "      <td>San Francisco</td>\n",
       "      <td>summerGames (4-week)</td>\n",
       "      <td>8.0</td>\n",
       "      <td>10</td>\n",
       "      <td>NaN</td>\n",
       "    </tr>\n",
       "    <tr>\n",
       "      <th>2443</th>\n",
       "      <td>2016</td>\n",
       "      <td>San Francisco</td>\n",
       "      <td>summerIntro</td>\n",
       "      <td>8.0</td>\n",
       "      <td>9</td>\n",
       "      <td>NaN</td>\n",
       "    </tr>\n",
       "    <tr>\n",
       "      <th>2444</th>\n",
       "      <td>2016</td>\n",
       "      <td>Sunnyvale</td>\n",
       "      <td>summerGames</td>\n",
       "      <td>8.0</td>\n",
       "      <td>9</td>\n",
       "      <td>NaN</td>\n",
       "    </tr>\n",
       "  </tbody>\n",
       "</table>\n",
       "</div>"
      ],
      "text/plain": [
       "      year       location                 track  week rating  pace\n",
       "2440  2016  San Francisco            summerApps   8.0      9   NaN\n",
       "2441  2016  San Francisco              summerVR   8.0      5   NaN\n",
       "2442  2016  San Francisco  summerGames (4-week)   8.0     10   NaN\n",
       "2443  2016  San Francisco           summerIntro   8.0      9   NaN\n",
       "2444  2016      Sunnyvale           summerGames   8.0      9   NaN"
      ]
     },
     "execution_count": 13,
     "metadata": {},
     "output_type": "execute_result"
    }
   ],
   "source": [
    "# Before cleaning and adding nps_score\n",
    "summer_df.tail()"
   ]
  },
  {
   "cell_type": "code",
   "execution_count": 14,
   "metadata": {
    "slideshow": {
     "slide_type": "subslide"
    }
   },
   "outputs": [],
   "source": [
    "# raname city names\n",
    "def rename_city(value):\n",
    "    if value is np.nan:\n",
    "        return np.nan\n",
    "    \n",
    "    name = value\n",
    "    if name == \"SF\":\n",
    "        return \"San Francisco\"\n",
    "    elif name == \"NY\":\n",
    "        return \"New York City\"\n",
    "    elif name == \"SC\":\n",
    "        return \"Santa Clara\"\n",
    "    elif name == \"LA\":\n",
    "        return \"Los Angeles\"\n",
    "    elif name == \"HK\":\n",
    "        return \"Hong Kong\"\n",
    "    elif name == \"SG\":\n",
    "        return \"Singapore\"\n",
    "    elif name == \"SV\":\n",
    "        return \"Sunnyvale\"\n",
    "    else:\n",
    "        return name\n",
    "    \n",
    "summer_df.location = summer_df.location.apply(rename_city)"
   ]
  },
  {
   "cell_type": "code",
   "execution_count": 15,
   "metadata": {
    "scrolled": true,
    "slideshow": {
     "slide_type": "skip"
    }
   },
   "outputs": [
    {
     "data": {
      "text/plain": [
       "San Francisco    673\n",
       "New York City    495\n",
       "Sunnyvale        330\n",
       "Santa Clara      193\n",
       "Los Angeles      165\n",
       "Tokyo             77\n",
       "Beijing           70\n",
       "Chicago           67\n",
       "Singapore         53\n",
       "Redwood City      53\n",
       "Oakland           47\n",
       "Washington DC     45\n",
       "Atlanta           33\n",
       "Taipei            23\n",
       "Hong Kong         16\n",
       "New York          12\n",
       "Name: location, dtype: int64"
      ]
     },
     "execution_count": 15,
     "metadata": {},
     "output_type": "execute_result"
    }
   ],
   "source": [
    "summer_df.location.value_counts()"
   ]
  },
  {
   "cell_type": "code",
   "execution_count": 16,
   "metadata": {
    "slideshow": {
     "slide_type": "subslide"
    }
   },
   "outputs": [],
   "source": [
    "# clean ratings by mapping values to nan if they're not numbers\n",
    "summer_df.rating = summer_df.rating.apply(only_numbers)\n",
    "\n",
    "# keep rows vs dropping them\n",
    "# summer_df.dropna(subset=['rating'], inplace=True)"
   ]
  },
  {
   "cell_type": "code",
   "execution_count": 17,
   "metadata": {
    "slideshow": {
     "slide_type": "subslide"
    }
   },
   "outputs": [],
   "source": [
    "# add nps\n",
    "def map_nps_score(value):\n",
    "    if value is np.nan:\n",
    "        return np.nan\n",
    "    \n",
    "    try:\n",
    "        rating = int(value)\n",
    "        if rating < 0 or rating > 10:\n",
    "            return np.nan\n",
    "    \n",
    "        if rating >= 9:\n",
    "            return 1\n",
    "        elif rating >= 7:\n",
    "            return 0\n",
    "        else:\n",
    "            return -1\n",
    "        \n",
    "    except ValueError:\n",
    "        return np.nan\n",
    "    \n",
    "summer_df['nps_score'] = summer_df.rating.apply(map_nps_score)"
   ]
  },
  {
   "cell_type": "code",
   "execution_count": 18,
   "metadata": {
    "slideshow": {
     "slide_type": "slide"
    }
   },
   "outputs": [
    {
     "data": {
      "text/html": [
       "<div>\n",
       "<style scoped>\n",
       "    .dataframe tbody tr th:only-of-type {\n",
       "        vertical-align: middle;\n",
       "    }\n",
       "\n",
       "    .dataframe tbody tr th {\n",
       "        vertical-align: top;\n",
       "    }\n",
       "\n",
       "    .dataframe thead th {\n",
       "        text-align: right;\n",
       "    }\n",
       "</style>\n",
       "<table border=\"1\" class=\"dataframe\">\n",
       "  <thead>\n",
       "    <tr style=\"text-align: right;\">\n",
       "      <th></th>\n",
       "      <th>year</th>\n",
       "      <th>location</th>\n",
       "      <th>track</th>\n",
       "      <th>week</th>\n",
       "      <th>rating</th>\n",
       "      <th>pace</th>\n",
       "      <th>nps_score</th>\n",
       "    </tr>\n",
       "  </thead>\n",
       "  <tbody>\n",
       "    <tr>\n",
       "      <th>2440</th>\n",
       "      <td>2016</td>\n",
       "      <td>San Francisco</td>\n",
       "      <td>summerApps</td>\n",
       "      <td>8.0</td>\n",
       "      <td>9.0</td>\n",
       "      <td>NaN</td>\n",
       "      <td>1.0</td>\n",
       "    </tr>\n",
       "    <tr>\n",
       "      <th>2441</th>\n",
       "      <td>2016</td>\n",
       "      <td>San Francisco</td>\n",
       "      <td>summerVR</td>\n",
       "      <td>8.0</td>\n",
       "      <td>5.0</td>\n",
       "      <td>NaN</td>\n",
       "      <td>-1.0</td>\n",
       "    </tr>\n",
       "    <tr>\n",
       "      <th>2442</th>\n",
       "      <td>2016</td>\n",
       "      <td>San Francisco</td>\n",
       "      <td>summerGames (4-week)</td>\n",
       "      <td>8.0</td>\n",
       "      <td>10.0</td>\n",
       "      <td>NaN</td>\n",
       "      <td>1.0</td>\n",
       "    </tr>\n",
       "    <tr>\n",
       "      <th>2443</th>\n",
       "      <td>2016</td>\n",
       "      <td>San Francisco</td>\n",
       "      <td>summerIntro</td>\n",
       "      <td>8.0</td>\n",
       "      <td>9.0</td>\n",
       "      <td>NaN</td>\n",
       "      <td>1.0</td>\n",
       "    </tr>\n",
       "    <tr>\n",
       "      <th>2444</th>\n",
       "      <td>2016</td>\n",
       "      <td>Sunnyvale</td>\n",
       "      <td>summerGames</td>\n",
       "      <td>8.0</td>\n",
       "      <td>9.0</td>\n",
       "      <td>NaN</td>\n",
       "      <td>1.0</td>\n",
       "    </tr>\n",
       "  </tbody>\n",
       "</table>\n",
       "</div>"
      ],
      "text/plain": [
       "      year       location                 track  week  rating  pace  nps_score\n",
       "2440  2016  San Francisco            summerApps   8.0     9.0   NaN        1.0\n",
       "2441  2016  San Francisco              summerVR   8.0     5.0   NaN       -1.0\n",
       "2442  2016  San Francisco  summerGames (4-week)   8.0    10.0   NaN        1.0\n",
       "2443  2016  San Francisco           summerIntro   8.0     9.0   NaN        1.0\n",
       "2444  2016      Sunnyvale           summerGames   8.0     9.0   NaN        1.0"
      ]
     },
     "execution_count": 18,
     "metadata": {},
     "output_type": "execute_result"
    }
   ],
   "source": [
    "# After cleaning\n",
    "summer_df.tail()"
   ]
  },
  {
   "cell_type": "markdown",
   "metadata": {
    "slideshow": {
     "slide_type": "slide"
    }
   },
   "source": [
    "# Reports"
   ]
  },
  {
   "cell_type": "code",
   "execution_count": 19,
   "metadata": {
    "scrolled": true,
    "slideshow": {
     "slide_type": "skip"
    }
   },
   "outputs": [],
   "source": [
    "import matplotlib.pyplot as plt"
   ]
  },
  {
   "cell_type": "code",
   "execution_count": 20,
   "metadata": {
    "slideshow": {
     "slide_type": "subslide"
    }
   },
   "outputs": [
    {
     "data": {
      "text/plain": [
       "'The nps is 44.9%'"
      ]
     },
     "metadata": {},
     "output_type": "display_data"
    },
    {
     "data": {
      "text/plain": [
       " 1.0    741\n",
       " 0.0    551\n",
       "-1.0    111\n",
       "Name: nps_score, dtype: int64"
      ]
     },
     "metadata": {},
     "output_type": "display_data"
    }
   ],
   "source": [
    "# NPS for 2016\n",
    "nps_df = summer_df[summer_df.year == 2017].dropna(subset=['rating'])\n",
    "\n",
    "def calc_nps(data_frame):\n",
    "    data_frame_size = len(data_frame)\n",
    "    promoter_avg = len(data_frame[data_frame.nps_score == 1.0]) / data_frame_size\n",
    "    passive_avg = len(data_frame[data_frame.nps_score == 0.0]) / data_frame_size\n",
    "    detractor_avg = len(data_frame[data_frame.nps_score == -1.0]) / data_frame_size\n",
    "\n",
    "    nps_value = promoter_avg - detractor_avg\n",
    "    \n",
    "    return nps_value * 100\n",
    "    \n",
    "display(\"The nps is {:0.1f}%\".format(calc_nps(nps_df)))\n",
    "display(nps_df.nps_score.value_counts())"
   ]
  },
  {
   "cell_type": "code",
   "execution_count": 21,
   "metadata": {},
   "outputs": [],
   "source": [
    "def calc_nps(n_promoters, n_detractors, size):\n",
    "    promoter_avg = n_promoters / size\n",
    "    detractor_avg = n_detractors / size\n",
    "\n",
    "    return promoter_avg - detractor_avg"
   ]
  },
  {
   "cell_type": "markdown",
   "metadata": {
    "slideshow": {
     "slide_type": "slide"
    }
   },
   "source": [
    "# Questions to Ask"
   ]
  },
  {
   "cell_type": "markdown",
   "metadata": {
    "slideshow": {
     "slide_type": "fragment"
    }
   },
   "source": [
    "\n",
    "1. Per location, how many reviews did each location have?"
   ]
  },
  {
   "cell_type": "markdown",
   "metadata": {
    "slideshow": {
     "slide_type": "slide"
    }
   },
   "source": [
    "# How many reviews did each location have?"
   ]
  },
  {
   "cell_type": "code",
   "execution_count": 22,
   "metadata": {
    "slideshow": {
     "slide_type": "skip"
    }
   },
   "outputs": [],
   "source": [
    "def pie_chart_for(year):\n",
    "    df = summer_df[summer_df.year == year]\n",
    "\n",
    "    # Now, let's initialize our plotting space in MatPlotLib.\n",
    "    fig, axs = plt.subplots(figsize=(10, 5))\n",
    "    location_counts = df.location.value_counts()\n",
    "    locations = location_counts.index\n",
    "\n",
    "    # Draw the circle\n",
    "    plt.pie(location_counts.values, labels=locations, autopct='%1.1f%%', shadow=True)\n",
    "    centre_circle = plt.Circle((0,0),0.75,color='black', fc='white',linewidth=1.25)\n",
    "\n",
    "    fig = plt.gcf()\n",
    "    fig.gca().add_artist(centre_circle)\n",
    "\n",
    "    plt.axis('equal')"
   ]
  },
  {
   "cell_type": "code",
   "execution_count": 23,
   "metadata": {
    "slideshow": {
     "slide_type": "subslide"
    }
   },
   "outputs": [
    {
     "data": {
      "image/png": "[encoded data removed]",
      "text/plain": [
       "<Figure size 720x360 with 1 Axes>"
      ]
     },
     "metadata": {},
     "output_type": "display_data"
    }
   ],
   "source": [
    "# Number of reviews at each location\n",
    "pie_chart_for(2016)"
   ]
  },
  {
   "cell_type": "code",
   "execution_count": 24,
   "metadata": {
    "scrolled": true,
    "slideshow": {
     "slide_type": "subslide"
    }
   },
   "outputs": [
    {
     "data": {
      "image/png": "[encoded data removed]",
      "text/plain": [
       "<Figure size 720x360 with 1 Axes>"
      ]
     },
     "metadata": {},
     "output_type": "display_data"
    }
   ],
   "source": [
    "# Number of reviews at each location\n",
    "pie_chart_for(2017)"
   ]
  },
  {
   "cell_type": "code",
   "execution_count": 25,
   "metadata": {
    "slideshow": {
     "slide_type": "skip"
    }
   },
   "outputs": [],
   "source": [
    "# Counts of each location\n",
    "def bar_for_number_of_reviews(year=None):\n",
    "    df = None\n",
    "    \n",
    "    if year is not None:\n",
    "        df = summer_df[summer_df.year == year]\n",
    "    else:\n",
    "        df = summer_df\n",
    "    \n",
    "    s_student_counts = df.location.value_counts()\n",
    "\n",
    "    plot = sns.barplot(x=s_student_counts.index, y=s_student_counts.values)\n",
    "\n",
    "    plot.set_xticklabels(s_student_counts.index, rotation=90)\n",
    "    plot.set_ylabel(\"Number of Entries\")\n",
    "    \n",
    "    return plot"
   ]
  },
  {
   "cell_type": "code",
   "execution_count": 26,
   "metadata": {
    "slideshow": {
     "slide_type": "subslide"
    }
   },
   "outputs": [
    {
     "data": {
      "text/plain": [
       "<matplotlib.axes._subplots.AxesSubplot at 0x113740518>"
      ]
     },
     "metadata": {},
     "output_type": "display_data"
    },
    {
     "data": {
      "image/png": "[encoded data removed]",
      "text/plain": [
       "<Figure size 432x288 with 1 Axes>"
      ]
     },
     "metadata": {},
     "output_type": "display_data"
    }
   ],
   "source": [
    "# number of reviews from each location\n",
    "display(bar_for_number_of_reviews(2016))"
   ]
  },
  {
   "cell_type": "code",
   "execution_count": 27,
   "metadata": {
    "slideshow": {
     "slide_type": "subslide"
    }
   },
   "outputs": [
    {
     "data": {
      "text/plain": [
       "<matplotlib.axes._subplots.AxesSubplot at 0x1137d8160>"
      ]
     },
     "execution_count": 27,
     "metadata": {},
     "output_type": "execute_result"
    },
    {
     "data": {
      "image/png": "[encoded data removed]",
      "text/plain": [
       "<Figure size 432x288 with 1 Axes>"
      ]
     },
     "metadata": {},
     "output_type": "display_data"
    }
   ],
   "source": [
    "# number of reviews from each location\n",
    "bar_for_number_of_reviews(2017)"
   ]
  },
  {
   "cell_type": "code",
   "execution_count": 28,
   "metadata": {
    "slideshow": {
     "slide_type": "skip"
    }
   },
   "outputs": [
    {
     "data": {
      "text/plain": [
       "<matplotlib.axes._subplots.AxesSubplot at 0x1a1ebd9860>"
      ]
     },
     "execution_count": 28,
     "metadata": {},
     "output_type": "execute_result"
    },
    {
     "data": {
      "image/png": "[encoded data removed]",
      "text/plain": [
       "<Figure size 432x288 with 1 Axes>"
      ]
     },
     "metadata": {},
     "output_type": "display_data"
    }
   ],
   "source": [
    "# number of reviews from each location\n",
    "bar_for_number_of_reviews()"
   ]
  },
  {
   "cell_type": "markdown",
   "metadata": {
    "slideshow": {
     "slide_type": "slide"
    }
   },
   "source": [
    "# For Sunnyvale, what was the NPS throughout the program?"
   ]
  },
  {
   "cell_type": "code",
   "execution_count": 36,
   "metadata": {
    "scrolled": true,
    "slideshow": {
     "slide_type": "skip"
    }
   },
   "outputs": [],
   "source": [
    "# How did each location do for each year throughout the weeks\n",
    "\n",
    "def nps_for(data_frame, year, weeks=8):\n",
    "    df = pd.DataFrame(index=[w for w in range(1, weeks +1)])\n",
    "\n",
    "    # Collect NPS Scores for each location, for each week\n",
    "    location_titles = data_frame.location.value_counts().index\n",
    "    for a_location in location_titles:\n",
    "        nps_for_each_week = []\n",
    "\n",
    "        for a_week_int in range(1, weeks +1):\n",
    "            a_df = data_frame[(data_frame.year == year) & (data_frame.location == a_location) & (data_frame.week == a_week_int)]\n",
    "            a_df_size = len(a_df)\n",
    "\n",
    "            if a_df_size == 0:\n",
    "                nps_for_each_week.append(0)\n",
    "                continue\n",
    "\n",
    "            n_promoters = len(a_df[a_df.nps_score == 1])\n",
    "            n_detractors = len(a_df[a_df.nps_score == -1])\n",
    "            \n",
    "            nps_ = calc_nps(n_promoters, n_detractors, a_df_size)\n",
    "\n",
    "            nps_for_each_week.append(nps_)\n",
    "\n",
    "        df[a_location] = nps_for_each_week\n",
    "\n",
    "    return df\n",
    "\n",
    "# How much reviews did each location have\n",
    "def review_count_for(data_frame, year, weeks=8):\n",
    "    df = pd.DataFrame(index=[w for w in range(1, weeks +1)])\n",
    "\n",
    "    # Collect NPS Scores for each location, for each week\n",
    "    location_titles = data_frame.location.value_counts().index\n",
    "    for a_location in location_titles:\n",
    "        nps_for_each_week = []\n",
    "\n",
    "        for a_week_int in range(1, weeks +1):\n",
    "            a_df = data_frame[(data_frame.year == year) & (data_frame.location == a_location) & (data_frame.week == a_week_int)]\n",
    "            a_df_size = len(a_df)\n",
    "\n",
    "            nps_for_each_week.append(a_df_size)\n",
    "\n",
    "        df[a_location] = nps_for_each_week\n",
    "\n",
    "    return df\n",
    "\n",
    "# How did each location do in pace throughout the weeks\n",
    "def pace_average_for(data_frame, year, weeks=8):\n",
    "    df = pd.DataFrame(index=[w for w in range(1, weeks +1)])\n",
    "\n",
    "    # Collect NPS Scores for each location, for each week\n",
    "    location_titles = data_frame.location.value_counts().index\n",
    "    for a_location in location_titles:\n",
    "        pace_mean_for_each_week = []\n",
    "\n",
    "        for a_week_int in range(1, weeks +1):\n",
    "            a_df = data_frame[(data_frame.year == year) & (data_frame.location == a_location) & (data_frame.week == a_week_int)]\n",
    "            a_df_size = len(a_df)\n",
    "\n",
    "            if a_df_size == 0:\n",
    "                pace_mean_for_each_week.append(np.nan)\n",
    "                continue\n",
    "                \n",
    "            pace_mean_for_week = a_df.pace.mean()\n",
    "\n",
    "            pace_mean_for_each_week.append(pace_mean_for_week)\n",
    "\n",
    "        df[a_location] = pace_mean_for_each_week\n",
    "\n",
    "    return df"
   ]
  },
  {
   "cell_type": "code",
   "execution_count": 30,
   "metadata": {
    "slideshow": {
     "slide_type": "subslide"
    }
   },
   "outputs": [
    {
     "data": {
      "text/plain": [
       "<matplotlib.axes._subplots.AxesSubplot at 0x1a1eedf240>"
      ]
     },
     "execution_count": 30,
     "metadata": {},
     "output_type": "execute_result"
    },
    {
     "data": {
      "image/png": "[encoded data removed]",
      "text/plain": [
       "<Figure size 432x288 with 1 Axes>"
      ]
     },
     "metadata": {},
     "output_type": "display_data"
    }
   ],
   "source": [
    "nps_for(summer_df, 2016).Sunnyvale.plot()"
   ]
  },
  {
   "cell_type": "code",
   "execution_count": 31,
   "metadata": {
    "slideshow": {
     "slide_type": "subslide"
    }
   },
   "outputs": [
    {
     "data": {
      "text/plain": [
       "<matplotlib.axes._subplots.AxesSubplot at 0x1a1ef94ac8>"
      ]
     },
     "execution_count": 31,
     "metadata": {},
     "output_type": "execute_result"
    },
    {
     "data": {
      "image/png": "[encoded data removed]",
      "text/plain": [
       "<Figure size 432x288 with 1 Axes>"
      ]
     },
     "metadata": {},
     "output_type": "display_data"
    }
   ],
   "source": [
    "sunnyvale_2016 = summer_df[(summer_df.year == 2016) & (summer_df.location == \"Sunnyvale\")]\n",
    "sns.countplot(x=sunnyvale_2016.week, hue=sunnyvale_2016.nps_score)"
   ]
  },
  {
   "cell_type": "code",
   "execution_count": 39,
   "metadata": {
    "slideshow": {
     "slide_type": "subslide"
    }
   },
   "outputs": [
    {
     "data": {
      "text/plain": [
       "'Week 1: 62'"
      ]
     },
     "metadata": {},
     "output_type": "display_data"
    },
    {
     "data": {
      "text/plain": [
       "'Week 2: 56'"
      ]
     },
     "metadata": {},
     "output_type": "display_data"
    },
    {
     "data": {
      "text/plain": [
       "'Week 8: 16'"
      ]
     },
     "metadata": {},
     "output_type": "display_data"
    },
    {
     "data": {
      "image/png": "[encoded data removed]",
      "text/plain": [
       "<Figure size 432x288 with 1 Axes>"
      ]
     },
     "metadata": {},
     "output_type": "display_data"
    }
   ],
   "source": [
    "# The number of reviews for each week\n",
    "review_count_for(summer_df, 2016).Sunnyvale.plot()\n",
    "\n",
    "display(\"Week 1: {}\".format(len(summer_df[(summer_df.location == \"Sunnyvale\") & (summer_df.week == 1)])))\n",
    "display(\"Week 2: {}\".format(len(summer_df[(summer_df.location == \"Sunnyvale\") & (summer_df.week == 2)])))\n",
    "display(\"Week 8: {}\".format(len(summer_df[(summer_df.location == \"Sunnyvale\") & (summer_df.week == 8)])))"
   ]
  },
  {
   "cell_type": "markdown",
   "metadata": {
    "slideshow": {
     "slide_type": "subslide"
    }
   },
   "source": [
    "# Why I cannot conclude Sunnyvale was dropped in 2017\n",
    "\n",
    "1. Not all students will write a review\n",
    "1. Reviews don't account for number of students"
   ]
  },
  {
   "cell_type": "markdown",
   "metadata": {
    "slideshow": {
     "slide_type": "slide"
    }
   },
   "source": [
    "# How was the review count throughout the weeks"
   ]
  },
  {
   "cell_type": "code",
   "execution_count": 38,
   "metadata": {
    "slideshow": {
     "slide_type": "subslide"
    }
   },
   "outputs": [
    {
     "data": {
      "text/plain": [
       "<matplotlib.axes._subplots.AxesSubplot at 0x1137a3518>"
      ]
     },
     "execution_count": 38,
     "metadata": {},
     "output_type": "execute_result"
    },
    {
     "data": {
      "image/png": "[encoded data removed]",
      "text/plain": [
       "<Figure size 432x288 with 1 Axes>"
      ]
     },
     "metadata": {},
     "output_type": "display_data"
    },
    {
     "data": {
      "image/png": "[encoded data removed]",
      "text/plain": [
       "<Figure size 432x288 with 1 Axes>"
      ]
     },
     "metadata": {},
     "output_type": "display_data"
    }
   ],
   "source": [
    "# Number of reviews for each year in each city\n",
    "review_count_for(summer_df, 2016).plot(legend=False)\n",
    "review_count_for(summer_df, 2017).plot(legend=False)"
   ]
  },
  {
   "cell_type": "markdown",
   "metadata": {
    "slideshow": {
     "slide_type": "slide"
    }
   },
   "source": [
    "# How was the pace throughout the week?"
   ]
  },
  {
   "cell_type": "code",
   "execution_count": 48,
   "metadata": {
    "scrolled": true,
    "slideshow": {
     "slide_type": "subslide"
    }
   },
   "outputs": [
    {
     "data": {
      "text/plain": [
       "<matplotlib.axes._subplots.AxesSubplot at 0x1a1f81d0f0>"
      ]
     },
     "execution_count": 48,
     "metadata": {},
     "output_type": "execute_result"
    },
    {
     "data": {
      "image/png": "[encoded data removed]",
      "text/plain": [
       "<Figure size 432x288 with 1 Axes>"
      ]
     },
     "metadata": {},
     "output_type": "display_data"
    }
   ],
   "source": [
    "# pace levels for each week\n",
    "pace_average_for(summer_df, 2016).plot(legend=False)"
   ]
  },
  {
   "cell_type": "code",
   "execution_count": 46,
   "metadata": {
    "slideshow": {
     "slide_type": "subslide"
    }
   },
   "outputs": [
    {
     "data": {
      "text/plain": [
       "<matplotlib.axes._subplots.AxesSubplot at 0x1a1f9dbda0>"
      ]
     },
     "execution_count": 46,
     "metadata": {},
     "output_type": "execute_result"
    },
    {
     "data": {
      "image/png": "[encoded data removed]",
      "text/plain": [
       "<Figure size 432x288 with 1 Axes>"
      ]
     },
     "metadata": {},
     "output_type": "display_data"
    }
   ],
   "source": [
    "# Pace for Sunnyvale, 2016\n",
    "pace_average_for(summer_df, 2016).Sunnyvale.plot(legend=False)"
   ]
  },
  {
   "cell_type": "code",
   "execution_count": null,
   "metadata": {},
   "outputs": [],
   "source": []
  }
 ],
 "metadata": {
  "celltoolbar": "Slideshow",
  "kernelspec": {
   "display_name": "Python 3",
   "language": "python",
   "name": "python3"
  },
  "language_info": {
   "codemirror_mode": {
    "name": "ipython",
    "version": 3
   },
   "file_extension": ".py",
   "mimetype": "text/x-python",
   "name": "python",
   "nbconvert_exporter": "python",
   "pygments_lexer": "ipython3",
   "version": "3.6.5"
  }
 },
 "nbformat": 4,
 "nbformat_minor": 2
}
