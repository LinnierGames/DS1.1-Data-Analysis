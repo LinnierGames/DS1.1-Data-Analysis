{
 "cells": [
  {
   "cell_type": "code",
   "execution_count": 13,
   "metadata": {},
   "outputs": [],
   "source": [
    "import pandas as pd\n",
    "import seaborn as sns\n",
    "import numpy as np"
   ]
  },
  {
   "cell_type": "code",
   "execution_count": 3,
   "metadata": {},
   "outputs": [],
   "source": [
    "df = pd.read_csv('datasets/income.csv', encoding='cp1252')"
   ]
  },
  {
   "cell_type": "code",
   "execution_count": 4,
   "metadata": {},
   "outputs": [
    {
     "data": {
      "text/html": [
       "<div>\n",
       "<style scoped>\n",
       "    .dataframe tbody tr th:only-of-type {\n",
       "        vertical-align: middle;\n",
       "    }\n",
       "\n",
       "    .dataframe tbody tr th {\n",
       "        vertical-align: top;\n",
       "    }\n",
       "\n",
       "    .dataframe thead th {\n",
       "        text-align: right;\n",
       "    }\n",
       "</style>\n",
       "<table border=\"1\" class=\"dataframe\">\n",
       "  <thead>\n",
       "    <tr style=\"text-align: right;\">\n",
       "      <th></th>\n",
       "      <th>id</th>\n",
       "      <th>State_Code</th>\n",
       "      <th>State_Name</th>\n",
       "      <th>State_ab</th>\n",
       "      <th>County</th>\n",
       "      <th>City</th>\n",
       "      <th>Place</th>\n",
       "      <th>Type</th>\n",
       "      <th>Primary</th>\n",
       "      <th>Zip_Code</th>\n",
       "      <th>Area_Code</th>\n",
       "      <th>ALand</th>\n",
       "      <th>AWater</th>\n",
       "      <th>Lat</th>\n",
       "      <th>Lon</th>\n",
       "      <th>Mean</th>\n",
       "      <th>Median</th>\n",
       "      <th>Stdev</th>\n",
       "      <th>sum_w</th>\n",
       "    </tr>\n",
       "  </thead>\n",
       "  <tbody>\n",
       "    <tr>\n",
       "      <th>0</th>\n",
       "      <td>1011000</td>\n",
       "      <td>1</td>\n",
       "      <td>Alabama</td>\n",
       "      <td>AL</td>\n",
       "      <td>Mobile County</td>\n",
       "      <td>Chickasaw</td>\n",
       "      <td>Chickasaw city</td>\n",
       "      <td>City</td>\n",
       "      <td>place</td>\n",
       "      <td>36611</td>\n",
       "      <td>251</td>\n",
       "      <td>10894952</td>\n",
       "      <td>909156</td>\n",
       "      <td>30.771450</td>\n",
       "      <td>-88.079697</td>\n",
       "      <td>38773</td>\n",
       "      <td>30506</td>\n",
       "      <td>33101</td>\n",
       "      <td>1638.260513</td>\n",
       "    </tr>\n",
       "    <tr>\n",
       "      <th>1</th>\n",
       "      <td>1011010</td>\n",
       "      <td>1</td>\n",
       "      <td>Alabama</td>\n",
       "      <td>AL</td>\n",
       "      <td>Barbour County</td>\n",
       "      <td>Louisville</td>\n",
       "      <td>Clio city</td>\n",
       "      <td>City</td>\n",
       "      <td>place</td>\n",
       "      <td>36048</td>\n",
       "      <td>334</td>\n",
       "      <td>26070325</td>\n",
       "      <td>23254</td>\n",
       "      <td>31.708516</td>\n",
       "      <td>-85.611039</td>\n",
       "      <td>37725</td>\n",
       "      <td>19528</td>\n",
       "      <td>43789</td>\n",
       "      <td>258.017685</td>\n",
       "    </tr>\n",
       "    <tr>\n",
       "      <th>2</th>\n",
       "      <td>1011020</td>\n",
       "      <td>1</td>\n",
       "      <td>Alabama</td>\n",
       "      <td>AL</td>\n",
       "      <td>Shelby County</td>\n",
       "      <td>Columbiana</td>\n",
       "      <td>Columbiana city</td>\n",
       "      <td>City</td>\n",
       "      <td>place</td>\n",
       "      <td>35051</td>\n",
       "      <td>205</td>\n",
       "      <td>44835274</td>\n",
       "      <td>261034</td>\n",
       "      <td>33.191452</td>\n",
       "      <td>-86.615618</td>\n",
       "      <td>54606</td>\n",
       "      <td>31930</td>\n",
       "      <td>57348</td>\n",
       "      <td>926.031000</td>\n",
       "    </tr>\n",
       "    <tr>\n",
       "      <th>3</th>\n",
       "      <td>1011030</td>\n",
       "      <td>1</td>\n",
       "      <td>Alabama</td>\n",
       "      <td>AL</td>\n",
       "      <td>Mobile County</td>\n",
       "      <td>Satsuma</td>\n",
       "      <td>Creola city</td>\n",
       "      <td>City</td>\n",
       "      <td>place</td>\n",
       "      <td>36572</td>\n",
       "      <td>251</td>\n",
       "      <td>36878729</td>\n",
       "      <td>2374530</td>\n",
       "      <td>30.874343</td>\n",
       "      <td>-88.009442</td>\n",
       "      <td>63919</td>\n",
       "      <td>52814</td>\n",
       "      <td>47707</td>\n",
       "      <td>378.114619</td>\n",
       "    </tr>\n",
       "    <tr>\n",
       "      <th>4</th>\n",
       "      <td>1011040</td>\n",
       "      <td>1</td>\n",
       "      <td>Alabama</td>\n",
       "      <td>AL</td>\n",
       "      <td>Mobile County</td>\n",
       "      <td>Dauphin Island</td>\n",
       "      <td>Dauphin Island</td>\n",
       "      <td>Town</td>\n",
       "      <td>place</td>\n",
       "      <td>36528</td>\n",
       "      <td>251</td>\n",
       "      <td>16204185</td>\n",
       "      <td>413605152</td>\n",
       "      <td>30.250913</td>\n",
       "      <td>-88.171268</td>\n",
       "      <td>77948</td>\n",
       "      <td>67225</td>\n",
       "      <td>54270</td>\n",
       "      <td>282.320328</td>\n",
       "    </tr>\n",
       "  </tbody>\n",
       "</table>\n",
       "</div>"
      ],
      "text/plain": [
       "        id  State_Code State_Name State_ab          County            City  \\\n",
       "0  1011000           1    Alabama       AL   Mobile County       Chickasaw   \n",
       "1  1011010           1    Alabama       AL  Barbour County      Louisville   \n",
       "2  1011020           1    Alabama       AL   Shelby County      Columbiana   \n",
       "3  1011030           1    Alabama       AL   Mobile County         Satsuma   \n",
       "4  1011040           1    Alabama       AL   Mobile County  Dauphin Island   \n",
       "\n",
       "             Place  Type Primary  Zip_Code Area_Code     ALand     AWater  \\\n",
       "0   Chickasaw city  City   place     36611       251  10894952     909156   \n",
       "1        Clio city  City   place     36048       334  26070325      23254   \n",
       "2  Columbiana city  City   place     35051       205  44835274     261034   \n",
       "3      Creola city  City   place     36572       251  36878729    2374530   \n",
       "4   Dauphin Island  Town   place     36528       251  16204185  413605152   \n",
       "\n",
       "         Lat        Lon   Mean  Median  Stdev        sum_w  \n",
       "0  30.771450 -88.079697  38773   30506  33101  1638.260513  \n",
       "1  31.708516 -85.611039  37725   19528  43789   258.017685  \n",
       "2  33.191452 -86.615618  54606   31930  57348   926.031000  \n",
       "3  30.874343 -88.009442  63919   52814  47707   378.114619  \n",
       "4  30.250913 -88.171268  77948   67225  54270   282.320328  "
      ]
     },
     "execution_count": 4,
     "metadata": {},
     "output_type": "execute_result"
    }
   ],
   "source": [
    "df.head()"
   ]
  },
  {
   "cell_type": "code",
   "execution_count": null,
   "metadata": {},
   "outputs": [
    {
     "data": {
      "text/plain": [
       "<matplotlib.axes._subplots.AxesSubplot at 0x1a22186390>"
      ]
     },
     "execution_count": 20,
     "metadata": {},
     "output_type": "execute_result"
    }
   ],
   "source": []
  },
  {
   "cell_type": "code",
   "execution_count": 38,
   "metadata": {},
   "outputs": [
    {
     "data": {
      "text/plain": [
       "<matplotlib.axes._subplots.AxesSubplot at 0x10d88c588>"
      ]
     },
     "execution_count": 38,
     "metadata": {},
     "output_type": "execute_result"
    },
    {
     "data": {
      "image/png": "[encoded data removed]",
      "text/plain": [
       "<Figure size 432x288 with 1 Axes>"
      ]
     },
     "metadata": {},
     "output_type": "display_data"
    }
   ],
   "source": [
    "min_zip = df.Zip_Code.min()\n",
    "max_zip = df.Zip_Code.max()\n",
    "n_buckets = 30\n",
    "\n",
    "buckets = [i for i in range(min_zip, max_zip, int((max_zip - min_zip) / float(n_buckets)))]\n",
    "\n",
    "cut_df = pd.cut(x=df.Zip_Code, bins=buckets, labels=[i + 1 for i in range(n_buckets)])\n",
    "sns.barplot(y=cut_df.value_counts().values, x=cut_df.value_counts().index)"
   ]
  },
  {
   "cell_type": "code",
   "execution_count": null,
   "metadata": {},
   "outputs": [],
   "source": []
  }
 ],
 "metadata": {
  "kernelspec": {
   "display_name": "Python 3",
   "language": "python",
   "name": "python3"
  },
  "language_info": {
   "codemirror_mode": {
    "name": "ipython",
    "version": 3
   },
   "file_extension": ".py",
   "mimetype": "text/x-python",
   "name": "python",
   "nbconvert_exporter": "python",
   "pygments_lexer": "ipython3",
   "version": "3.6.5"
  }
 },
 "nbformat": 4,
 "nbformat_minor": 2
}
