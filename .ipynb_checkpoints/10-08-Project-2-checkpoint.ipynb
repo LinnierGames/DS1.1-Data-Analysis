{
 "cells": [
  {
   "cell_type": "code",
   "execution_count": 1,
   "metadata": {},
   "outputs": [],
   "source": [
    "import pandas as pd\n",
    "import seaborn as sns"
   ]
  },
  {
   "cell_type": "code",
   "execution_count": 2,
   "metadata": {},
   "outputs": [],
   "source": [
    "DATASETS = 'datasets/sf-police-calls-for-service-and-incidents/'"
   ]
  },
  {
   "cell_type": "code",
   "execution_count": 3,
   "metadata": {},
   "outputs": [],
   "source": [
    "# import datasets\n",
    "og_accidents_df = pd.read_csv(DATASETS + 'police-department-incidents.csv')\n",
    "og_calls_df = pd.read_csv(DATASETS + 'police-department-calls-for-service.csv')"
   ]
  },
  {
   "cell_type": "code",
   "execution_count": 4,
   "metadata": {},
   "outputs": [
    {
     "data": {
      "text/html": [
       "<div>\n",
       "<style scoped>\n",
       "    .dataframe tbody tr th:only-of-type {\n",
       "        vertical-align: middle;\n",
       "    }\n",
       "\n",
       "    .dataframe tbody tr th {\n",
       "        vertical-align: top;\n",
       "    }\n",
       "\n",
       "    .dataframe thead th {\n",
       "        text-align: right;\n",
       "    }\n",
       "</style>\n",
       "<table border=\"1\" class=\"dataframe\">\n",
       "  <thead>\n",
       "    <tr style=\"text-align: right;\">\n",
       "      <th></th>\n",
       "      <th>Crime Id</th>\n",
       "      <th>Original Crime Type Name</th>\n",
       "      <th>Report Date</th>\n",
       "      <th>Call Date</th>\n",
       "      <th>Offense Date</th>\n",
       "      <th>Call Time</th>\n",
       "      <th>Call Date Time</th>\n",
       "      <th>Disposition</th>\n",
       "      <th>Address</th>\n",
       "      <th>City</th>\n",
       "      <th>State</th>\n",
       "      <th>Agency Id</th>\n",
       "      <th>Address Type</th>\n",
       "      <th>Common Location</th>\n",
       "    </tr>\n",
       "  </thead>\n",
       "  <tbody>\n",
       "    <tr>\n",
       "      <th>0</th>\n",
       "      <td>160942891</td>\n",
       "      <td>Muni Inspection</td>\n",
       "      <td>2016-04-03T00:00:00</td>\n",
       "      <td>2016-04-03T00:00:00</td>\n",
       "      <td>2016-04-03T00:00:00</td>\n",
       "      <td>18:15</td>\n",
       "      <td>2016-04-03T18:15:00</td>\n",
       "      <td>Not recorded</td>\n",
       "      <td>900 Block Of Ulloa St</td>\n",
       "      <td>San Francisco</td>\n",
       "      <td>CA</td>\n",
       "      <td>1</td>\n",
       "      <td>Common Location</td>\n",
       "      <td>West Portal Muni, Sf</td>\n",
       "    </tr>\n",
       "    <tr>\n",
       "      <th>1</th>\n",
       "      <td>160930487</td>\n",
       "      <td>913</td>\n",
       "      <td>2016-04-02T00:00:00</td>\n",
       "      <td>2016-04-02T00:00:00</td>\n",
       "      <td>2016-04-02T00:00:00</td>\n",
       "      <td>03:55</td>\n",
       "      <td>2016-04-02T03:55:00</td>\n",
       "      <td>HAN</td>\n",
       "      <td>Folsom St/13th St</td>\n",
       "      <td>San Francisco</td>\n",
       "      <td>CA</td>\n",
       "      <td>1</td>\n",
       "      <td>Intersection</td>\n",
       "      <td>NaN</td>\n",
       "    </tr>\n",
       "  </tbody>\n",
       "</table>\n",
       "</div>"
      ],
      "text/plain": [
       "    Crime Id Original Crime Type Name          Report Date  \\\n",
       "0  160942891          Muni Inspection  2016-04-03T00:00:00   \n",
       "1  160930487                      913  2016-04-02T00:00:00   \n",
       "\n",
       "             Call Date         Offense Date Call Time       Call Date Time  \\\n",
       "0  2016-04-03T00:00:00  2016-04-03T00:00:00     18:15  2016-04-03T18:15:00   \n",
       "1  2016-04-02T00:00:00  2016-04-02T00:00:00     03:55  2016-04-02T03:55:00   \n",
       "\n",
       "    Disposition                Address           City State  Agency Id  \\\n",
       "0  Not recorded  900 Block Of Ulloa St  San Francisco    CA          1   \n",
       "1           HAN      Folsom St/13th St  San Francisco    CA          1   \n",
       "\n",
       "      Address Type       Common Location  \n",
       "0  Common Location  West Portal Muni, Sf  \n",
       "1     Intersection                   NaN  "
      ]
     },
     "execution_count": 4,
     "metadata": {},
     "output_type": "execute_result"
    }
   ],
   "source": [
    "og_calls_df.head(2)"
   ]
  },
  {
   "cell_type": "code",
   "execution_count": 6,
   "metadata": {},
   "outputs": [
    {
     "data": {
      "text/html": [
       "<div>\n",
       "<style scoped>\n",
       "    .dataframe tbody tr th:only-of-type {\n",
       "        vertical-align: middle;\n",
       "    }\n",
       "\n",
       "    .dataframe tbody tr th {\n",
       "        vertical-align: top;\n",
       "    }\n",
       "\n",
       "    .dataframe thead th {\n",
       "        text-align: right;\n",
       "    }\n",
       "</style>\n",
       "<table border=\"1\" class=\"dataframe\">\n",
       "  <thead>\n",
       "    <tr style=\"text-align: right;\">\n",
       "      <th></th>\n",
       "      <th>IncidntNum</th>\n",
       "      <th>Category</th>\n",
       "      <th>Descript</th>\n",
       "      <th>DayOfWeek</th>\n",
       "      <th>Date</th>\n",
       "      <th>Time</th>\n",
       "      <th>PdDistrict</th>\n",
       "      <th>Resolution</th>\n",
       "      <th>Address</th>\n",
       "      <th>X</th>\n",
       "      <th>Y</th>\n",
       "      <th>Location</th>\n",
       "      <th>PdId</th>\n",
       "    </tr>\n",
       "  </thead>\n",
       "  <tbody>\n",
       "    <tr>\n",
       "      <th>0</th>\n",
       "      <td>50436712</td>\n",
       "      <td>ASSAULT</td>\n",
       "      <td>BATTERY</td>\n",
       "      <td>Wednesday</td>\n",
       "      <td>2005-04-20T00:00:00</td>\n",
       "      <td>04:00</td>\n",
       "      <td>MISSION</td>\n",
       "      <td>NONE</td>\n",
       "      <td>18TH ST / CASTRO ST</td>\n",
       "      <td>-122.435003</td>\n",
       "      <td>37.760888</td>\n",
       "      <td>{'latitude': '37.7608878061245', 'longitude': ...</td>\n",
       "      <td>5043671204134</td>\n",
       "    </tr>\n",
       "    <tr>\n",
       "      <th>1</th>\n",
       "      <td>80049078</td>\n",
       "      <td>LARCENY/THEFT</td>\n",
       "      <td>GRAND THEFT FROM A BUILDING</td>\n",
       "      <td>Sunday</td>\n",
       "      <td>2008-01-13T00:00:00</td>\n",
       "      <td>18:00</td>\n",
       "      <td>PARK</td>\n",
       "      <td>NONE</td>\n",
       "      <td>1100 Block of CLAYTON ST</td>\n",
       "      <td>-122.446838</td>\n",
       "      <td>37.762255</td>\n",
       "      <td>{'latitude': '37.7622550270122', 'longitude': ...</td>\n",
       "      <td>8004907806304</td>\n",
       "    </tr>\n",
       "  </tbody>\n",
       "</table>\n",
       "</div>"
      ],
      "text/plain": [
       "   IncidntNum       Category                     Descript  DayOfWeek  \\\n",
       "0    50436712        ASSAULT                      BATTERY  Wednesday   \n",
       "1    80049078  LARCENY/THEFT  GRAND THEFT FROM A BUILDING     Sunday   \n",
       "\n",
       "                  Date   Time PdDistrict Resolution                   Address  \\\n",
       "0  2005-04-20T00:00:00  04:00    MISSION       NONE       18TH ST / CASTRO ST   \n",
       "1  2008-01-13T00:00:00  18:00       PARK       NONE  1100 Block of CLAYTON ST   \n",
       "\n",
       "            X          Y                                           Location  \\\n",
       "0 -122.435003  37.760888  {'latitude': '37.7608878061245', 'longitude': ...   \n",
       "1 -122.446838  37.762255  {'latitude': '37.7622550270122', 'longitude': ...   \n",
       "\n",
       "            PdId  \n",
       "0  5043671204134  \n",
       "1  8004907806304  "
      ]
     },
     "execution_count": 6,
     "metadata": {},
     "output_type": "execute_result"
    }
   ],
   "source": [
    "og_accidents_df.head(2)"
   ]
  },
  {
   "cell_type": "markdown",
   "metadata": {},
   "source": [
    "# Questions\n",
    "1. What are the most common crime types (pie chart)\n",
    "1. throughout 24hrs, when are the call counts for each hour (historgram line chart)\n",
    "1. throughout 24hrs, where are the most calls for each location at a given hour (heat map)\n",
    "1. "
   ]
  },
  {
   "cell_type": "code",
   "execution_count": 56,
   "metadata": {},
   "outputs": [],
   "source": [
    "\n",
    "# Drop Report Date\n",
    "calls_df = og_calls_df.drop(columns=['Report Date'], errors='ignore')\n",
    "\n",
    "# Rearange columns\n",
    "calls_df = calls_df[['Crime Id', 'Original Crime Type Name', 'Call Date', 'Call Time', 'Call Date Time', 'Offense Date', 'Address', 'City', 'State', 'Address Type', 'Common Location', 'Disposition', 'Agency Id']]\n",
    "\n",
    "# drop uncommon crimes that are 100 calls or less\n",
    "hist_crime_types = calls_df['Original Crime Type Name'].value_counts()[::-1]\n",
    "types_to_remove = []\n",
    "for a_crime_type, count in hist_crime_types.iteritems():\n",
    "    if count <= 100:\n",
    "        types_to_remove.append(a_crime_type)\n",
    "    else:\n",
    "        break\n",
    "        \n",
    "indexes_to_drop = calls_df.loc[calls_df['Original Crime Type Name'].isin(types_to_remove)].index\n",
    "calls_df = calls_df.drop(indexes_to_drop)\n",
    "\n",
    "# Give codes a title\n",
    "def refactor_codes(value):\n",
    "    if value == \"601\":\n",
    "        return \"Trespasser (201)\"\n",
    "    elif value == \"909\":\n",
    "        return \"Interview a citizen (909)\"\n",
    "    elif value == \"22500e\":\n",
    "        return \"Vehicle blocking a (22500e)\"\n",
    "\n",
    "    return value\n",
    "        \n",
    "calls_df['Original Crime Type Name'] = calls_df['Original Crime Type Name'].apply(refactor_codes)\n",
    "\n",
    "#601 Trespasser\n",
    "#909 Interview a citizen\n",
    "# 22500e Vehicle blocking a\n",
    "# 22500  Illegal Parking\n",
    "\n",
    "\n",
    "\n",
    "# Rename Columns\n",
    "calls_df = calls_df.rename(columns={\n",
    "    'Crime Id': 'crime_id',\n",
    "    'Original Crime Type Name': 'original_crime_type_name',\n",
    "    'Call Date': 'call_date',\n",
    "    'Call Time': 'call_time',\n",
    "    'Call Date Time': 'call_datetime',\n",
    "    'Offense Date': 'offense_date',\n",
    "    'Address': 'address',\n",
    "    'City': 'city',\n",
    "    'State': 'state',\n",
    "    'Address Type': 'address_type',\n",
    "    'Common Location': 'common_location',\n",
    "    'Disposition': 'disposition',\n",
    "    'Agency Id': 'agency_id',\n",
    "})"
   ]
  },
  {
   "cell_type": "code",
   "execution_count": 57,
   "metadata": {},
   "outputs": [
    {
     "data": {
      "text/html": [
       "<div>\n",
       "<style scoped>\n",
       "    .dataframe tbody tr th:only-of-type {\n",
       "        vertical-align: middle;\n",
       "    }\n",
       "\n",
       "    .dataframe tbody tr th {\n",
       "        vertical-align: top;\n",
       "    }\n",
       "\n",
       "    .dataframe thead th {\n",
       "        text-align: right;\n",
       "    }\n",
       "</style>\n",
       "<table border=\"1\" class=\"dataframe\">\n",
       "  <thead>\n",
       "    <tr style=\"text-align: right;\">\n",
       "      <th></th>\n",
       "      <th>crime_id</th>\n",
       "      <th>original_crime_type_name</th>\n",
       "      <th>call_date</th>\n",
       "      <th>call_time</th>\n",
       "      <th>call_datetime</th>\n",
       "      <th>offense_date</th>\n",
       "      <th>address</th>\n",
       "      <th>city</th>\n",
       "      <th>state</th>\n",
       "      <th>address_type</th>\n",
       "      <th>common_location</th>\n",
       "      <th>disposition</th>\n",
       "      <th>agency_id</th>\n",
       "    </tr>\n",
       "  </thead>\n",
       "  <tbody>\n",
       "    <tr>\n",
       "      <th>0</th>\n",
       "      <td>160942891</td>\n",
       "      <td>Muni Inspection</td>\n",
       "      <td>2016-04-03T00:00:00</td>\n",
       "      <td>18:15</td>\n",
       "      <td>2016-04-03T18:15:00</td>\n",
       "      <td>2016-04-03T00:00:00</td>\n",
       "      <td>900 Block Of Ulloa St</td>\n",
       "      <td>San Francisco</td>\n",
       "      <td>CA</td>\n",
       "      <td>Common Location</td>\n",
       "      <td>West Portal Muni, Sf</td>\n",
       "      <td>Not recorded</td>\n",
       "      <td>1</td>\n",
       "    </tr>\n",
       "  </tbody>\n",
       "</table>\n",
       "</div>"
      ],
      "text/plain": [
       "    crime_id original_crime_type_name            call_date call_time  \\\n",
       "0  160942891          Muni Inspection  2016-04-03T00:00:00     18:15   \n",
       "\n",
       "         call_datetime         offense_date                address  \\\n",
       "0  2016-04-03T18:15:00  2016-04-03T00:00:00  900 Block Of Ulloa St   \n",
       "\n",
       "            city state     address_type       common_location   disposition  \\\n",
       "0  San Francisco    CA  Common Location  West Portal Muni, Sf  Not recorded   \n",
       "\n",
       "   agency_id  \n",
       "0          1  "
      ]
     },
     "execution_count": 57,
     "metadata": {},
     "output_type": "execute_result"
    }
   ],
   "source": [
    "calls_df.head(1)"
   ]
  },
  {
   "cell_type": "code",
   "execution_count": 58,
   "metadata": {},
   "outputs": [],
   "source": [
    "# Wrangle accidents_df"
   ]
  },
  {
   "cell_type": "markdown",
   "metadata": {},
   "source": [
    "# Findings"
   ]
  },
  {
   "cell_type": "code",
   "execution_count": 59,
   "metadata": {
    "scrolled": false
   },
   "outputs": [
    {
     "data": {
      "text/plain": [
       "Passing Call                   275506\n",
       "Traffic Stop                   217064\n",
       "Suspicious Person              109532\n",
       "Homeless Complaint             105374\n",
       "Vehicle blocking a (22500e)     79353\n",
       "Muni Inspection                 71129\n",
       "Audible Alarm                   60434\n",
       "Well Being Check                50328\n",
       "Suspicious Vehicle              49828\n",
       "Fight No Weapon                 44184\n",
       "Trespasser                      42839\n",
       "Auto Boost / Strip              36779\n",
       "Noise Nuisance                  36357\n",
       "Mentally Disturbed              27713\n",
       "Meet W/citizen                  27441\n",
       "Poss                            27361\n",
       "Traf Violation Cite             26301\n",
       "Dw                              24893\n",
       "Assault / Battery               24601\n",
       "Petty Theft                     24350\n",
       "22500f                          22518\n",
       "Complaint Unkn                  20447\n",
       "Burglary                        15107\n",
       "Rep                             14864\n",
       "Stolen Vehicle                  14812\n",
       "                                ...  \n",
       "Stolen Property                  3478\n",
       "Citizen Arrest                   3369\n",
       "Physical                         3365\n",
       "22500h                           3216\n",
       "X                                3209\n",
       "Person Breaking In               3201\n",
       "Person W/gun                     3193\n",
       "Ringing Doorbell                 3144\n",
       "Family                           3125\n",
       "Grand Theft                      3094\n",
       "911                              3048\n",
       "Male                             3018\n",
       "Party                            3013\n",
       "Susp                             2884\n",
       "811                              2848\n",
       "Panic Alarm                      2782\n",
       "Person Down                      2749\n",
       "Prowler                          2693\n",
       "Att                              2554\n",
       "917                              2454\n",
       "7,2,27                           2353\n",
       "Recover Missing Veh              2324\n",
       "Silent Holdup Alarm              2254\n",
       "Rtl                              2243\n",
       "650                              2199\n",
       "Name: original_crime_type_name, Length: 100, dtype: int64"
      ]
     },
     "execution_count": 59,
     "metadata": {},
     "output_type": "execute_result"
    }
   ],
   "source": [
    "# Histogram of top 10 calls crime types\n",
    "# pd.set_option('display.max_rows', 50)\n",
    "calls_df.original_crime_type_name.value_counts().sort_values(ascending=False)[:100]#.plot(kind='pie')"
   ]
  },
  {
   "cell_type": "code",
   "execution_count": 24,
   "metadata": {},
   "outputs": [
    {
     "name": "stdout",
     "output_type": "stream",
     "text": [
      "Oldest date 2016-03-30T00:00:00. Most recent date 2018-10-06T00:00:00\n"
     ]
    }
   ],
   "source": [
    "# date range of this data\n",
    "from datetime import datetime\n",
    "\n",
    "oldest = calls_df.call_date.min()\n",
    "latest = calls_df.call_date.max()\n",
    "\n",
    "# format the date to look pretty here https://docs.python.org/3/library/datetime.html#strftime-strptime-behavior\n",
    "print(\"Oldest date {}. Most recent date {}\".format(oldest, latest))"
   ]
  },
  {
   "cell_type": "code",
   "execution_count": null,
   "metadata": {},
   "outputs": [],
   "source": []
  },
  {
   "cell_type": "code",
   "execution_count": null,
   "metadata": {},
   "outputs": [],
   "source": []
  },
  {
   "cell_type": "code",
   "execution_count": null,
   "metadata": {},
   "outputs": [],
   "source": []
  },
  {
   "cell_type": "code",
   "execution_count": null,
   "metadata": {},
   "outputs": [],
   "source": []
  }
 ],
 "metadata": {
  "kernelspec": {
   "display_name": "Python 3",
   "language": "python",
   "name": "python3"
  },
  "language_info": {
   "codemirror_mode": {
    "name": "ipython",
    "version": 3
   },
   "file_extension": ".py",
   "mimetype": "text/x-python",
   "name": "python",
   "nbconvert_exporter": "python",
   "pygments_lexer": "ipython3",
   "version": "3.6.5"
  }
 },
 "nbformat": 4,
 "nbformat_minor": 2
}
