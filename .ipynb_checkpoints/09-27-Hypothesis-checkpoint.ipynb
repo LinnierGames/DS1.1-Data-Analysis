{
 "cells": [
  {
   "cell_type": "code",
   "execution_count": 67,
   "metadata": {},
   "outputs": [],
   "source": [
    "import pandas as pd\n",
    "import numpy as np\n",
    "from scipy import stats\n",
    "from scipy.stats import norm"
   ]
  },
  {
   "cell_type": "code",
   "execution_count": null,
   "metadata": {},
   "outputs": [],
   "source": [
    "def z_score(sample_mean, pop_mean, pop_std_deviation, size):\n",
    "    z = ( sample_mean - pop_mean ) / (pop_std_deviation / np.sqrt(size))\n",
    "    \n",
    "    return z\n",
    "\n",
    "def t_score(sample_mean, pop_mean, sample_std_deviation, size):\n",
    "    t = ( sample_mean - pop_mean ) / (sample_std_deviation / np.sqrt(size))\n",
    "    \n",
    "    return t\n",
    "    t = stats.ttest_1samp(data, pop_mean)"
   ]
  },
  {
   "cell_type": "code",
   "execution_count": 5,
   "metadata": {},
   "outputs": [],
   "source": [
    "def z_t_null_hypothesis(data_sample, mu, sigma, significant_level):\n",
    "    if sigma:\n",
    "        z_score = (np.mean(data_sample)-mu)/(sigma/np.sqrt(len(data_sample)))\n",
    "        p = scipy.stats.norm.sf(abs(z_score))*2\n",
    "    elif len(data_sample) > 30:\n",
    "        z_score = (np.mean(data_sample)-mu)/(np.std(data_sample)/np.sqrt(len(data_sample)))\n",
    "        p = scipy.stats.norm.sf(abs(z_score))*2\n",
    "    else:\n",
    "        t, p = stats.ttest_1samp(data_sample, mu)\n",
    "    \n",
    "    if p < significant_level:\n",
    "        print('reject null hypothesis')\n",
    "        \n",
    "    else:\n",
    "        print('accept null hypothesis')"
   ]
  },
  {
   "cell_type": "markdown",
   "metadata": {},
   "source": [
    "# Confidence Interval"
   ]
  },
  {
   "cell_type": "code",
   "execution_count": 21,
   "metadata": {},
   "outputs": [],
   "source": [
    "\n",
    "# L = xbar - Z1-a/2 * o/sqrt(n)\n",
    "def get_lower_bound(sample_mean, sample_size, pop_std_div, significant_lvl):\n",
    "    z_sub_alpha = norm.ppf(1-(significant_lvl/2))\n",
    "    \n",
    "    return sample_mean - z_sub_alpha * pop_std_div / np.sqrt(sample_size)\n",
    "\n",
    "# U = xbar + Z1-a/2 * o/sqrt(n)\n",
    "def get_upper_bound(sample_mean, sample_size, pop_std_div, significant_lvl):\n",
    "    z_sub_alpha = norm.ppf(1-(significant_lvl/2))\n",
    "    \n",
    "    return sample_mean + z_sub_alpha * pop_std_div / np.sqrt(sample_size)\n",
    "    "
   ]
  },
  {
   "cell_type": "code",
   "execution_count": 24,
   "metadata": {},
   "outputs": [
    {
     "data": {
      "text/plain": [
       "4.908293780383348"
      ]
     },
     "metadata": {},
     "output_type": "display_data"
    },
    {
     "data": {
      "text/plain": [
       "5.1219708331778895"
      ]
     },
     "metadata": {},
     "output_type": "display_data"
    }
   ],
   "source": [
    "df = pd.read_csv(\"datasets/Iris.csv\")\n",
    "\n",
    "# features (4), records (150), plants (3)\n",
    "pop_std_div = 0.3525\n",
    "\n",
    "iris_setosa_sepal = np.array(df[df.Species == \"Iris-setosa\"].SepalLengthCm)\n",
    "\n",
    "sample_mean = iris_setosa_sepal.mean()\n",
    "\n",
    "L = get_lower_bound(sample_mean, len(iris_setosa_sepal), pop_std_dev, 0.05)\n",
    "U = get_upper_bound(sample_mean, len(iris_setosa_sepal), pop_std_dev, 0.02)\n",
    "\n",
    "display(L, U)"
   ]
  },
  {
   "cell_type": "code",
   "execution_count": 37,
   "metadata": {},
   "outputs": [
    {
     "data": {
      "text/plain": [
       "23"
      ]
     },
     "metadata": {},
     "output_type": "display_data"
    },
    {
     "data": {
      "text/plain": [
       "9977"
      ]
     },
     "metadata": {},
     "output_type": "display_data"
    }
   ],
   "source": [
    "def detect_remove_outliers(data):\n",
    "    sample = np.array(list(data))\n",
    "    sample_mean = np.mean(sample)\n",
    "    sample_std_dev = np.std(sample, ddof=1)\n",
    "    outlier_upper_bound = sample_mean + 3 * sample_std_dev\n",
    "    outlier_lower_bound = sample_mean - 3 * sample_std_dev\n",
    "    \n",
    "    no_outliers = []\n",
    "    outliers = []\n",
    "    for a_sample in sample:\n",
    "        if a_sample > outlier_upper_bound or a_sample < outlier_lower_bound:\n",
    "            outliers.append(a_sample)\n",
    "        else:\n",
    "            no_outliers.append(a_sample)\n",
    "        \n",
    "    return outliers, no_outliers\n",
    "\n",
    "df = norm.rvs(loc=5, scale=200, size=10_000)\n",
    "\n",
    "n, m = detect_remove_outliers(df)\n",
    "\n",
    "display(len(n), len(m))"
   ]
  },
  {
   "cell_type": "markdown",
   "metadata": {},
   "source": [
    "# IQR"
   ]
  },
  {
   "cell_type": "code",
   "execution_count": 69,
   "metadata": {},
   "outputs": [
    {
     "data": {
      "text/plain": [
       "<matplotlib.axes._subplots.AxesSubplot at 0x118d21f60>"
      ]
     },
     "execution_count": 69,
     "metadata": {},
     "output_type": "execute_result"
    },
    {
     "data": {
      "image/png": "[encoded data removed]",
      "text/plain": [
       "<Figure size 432x288 with 1 Axes>"
      ]
     },
     "metadata": {},
     "output_type": "display_data"
    }
   ],
   "source": [
    "x = np.concatenate((norm.rvs(loc=5, scale=1, size=100), np.array([-5, 11, 14])))\n",
    "\n",
    "def iqr(data):\n",
    "    percentile_25 = np.percentile(data, 25)\n",
    "    percentile_75 = np.percentile(data, 75)\n",
    "    iqr = percentile_75 - percentile_25\n",
    "    \n",
    "    no_outliers = []\n",
    "    outliers = []\n",
    "    for a_sample in data:\n",
    "        if a_sample > percentile_75 or a_sample < percentile_25:\n",
    "            outliers.append(a_sample)\n",
    "        else:\n",
    "            no_outliers.append(a_sample)\n",
    "        \n",
    "    return outliers, no_outliers\n",
    "    \n",
    "iqr(x)\n",
    "\n",
    "import seaborn as sns\n",
    "\n",
    "sns.boxplot(x)\n"
   ]
  },
  {
   "cell_type": "code",
   "execution_count": null,
   "metadata": {},
   "outputs": [],
   "source": []
  },
  {
   "cell_type": "code",
   "execution_count": null,
   "metadata": {},
   "outputs": [],
   "source": []
  },
  {
   "cell_type": "code",
   "execution_count": null,
   "metadata": {},
   "outputs": [],
   "source": []
  },
  {
   "cell_type": "code",
   "execution_count": null,
   "metadata": {},
   "outputs": [],
   "source": []
  },
  {
   "cell_type": "code",
   "execution_count": null,
   "metadata": {},
   "outputs": [],
   "source": []
  },
  {
   "cell_type": "code",
   "execution_count": null,
   "metadata": {},
   "outputs": [],
   "source": []
  },
  {
   "cell_type": "code",
   "execution_count": null,
   "metadata": {},
   "outputs": [],
   "source": []
  },
  {
   "cell_type": "code",
   "execution_count": null,
   "metadata": {},
   "outputs": [],
   "source": []
  },
  {
   "cell_type": "code",
   "execution_count": null,
   "metadata": {},
   "outputs": [],
   "source": []
  },
  {
   "cell_type": "code",
   "execution_count": null,
   "metadata": {},
   "outputs": [],
   "source": []
  },
  {
   "cell_type": "code",
   "execution_count": null,
   "metadata": {},
   "outputs": [],
   "source": []
  },
  {
   "cell_type": "code",
   "execution_count": null,
   "metadata": {},
   "outputs": [],
   "source": []
  }
 ],
 "metadata": {
  "kernelspec": {
   "display_name": "Python 3",
   "language": "python",
   "name": "python3"
  },
  "language_info": {
   "codemirror_mode": {
    "name": "ipython",
    "version": 3
   },
   "file_extension": ".py",
   "mimetype": "text/x-python",
   "name": "python",
   "nbconvert_exporter": "python",
   "pygments_lexer": "ipython3",
   "version": "3.6.5"
  }
 },
 "nbformat": 4,
 "nbformat_minor": 2
}
