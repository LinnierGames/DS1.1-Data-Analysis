{
 "cells": [
  {
   "cell_type": "code",
   "execution_count": 27,
   "metadata": {},
   "outputs": [],
   "source": [
    "import pandas as pd\n",
    "import numpy as np\n",
    "import seaborn as sns\n",
    "import matplotlib.pyplot as plt"
   ]
  },
  {
   "cell_type": "code",
   "execution_count": 2,
   "metadata": {},
   "outputs": [],
   "source": [
    "DATASETS = 'datasets/sf-police-calls-for-service-and-incidents/'"
   ]
  },
  {
   "cell_type": "code",
   "execution_count": 3,
   "metadata": {},
   "outputs": [],
   "source": [
    "# import datasets\n",
    "og_accidents_df = pd.read_csv(DATASETS + 'police-department-incidents.csv')\n",
    "og_calls_df = pd.read_csv(DATASETS + 'police-department-calls-for-service.csv')"
   ]
  },
  {
   "cell_type": "code",
   "execution_count": 4,
   "metadata": {},
   "outputs": [
    {
     "data": {
      "text/html": [
       "<div>\n",
       "<style scoped>\n",
       "    .dataframe tbody tr th:only-of-type {\n",
       "        vertical-align: middle;\n",
       "    }\n",
       "\n",
       "    .dataframe tbody tr th {\n",
       "        vertical-align: top;\n",
       "    }\n",
       "\n",
       "    .dataframe thead th {\n",
       "        text-align: right;\n",
       "    }\n",
       "</style>\n",
       "<table border=\"1\" class=\"dataframe\">\n",
       "  <thead>\n",
       "    <tr style=\"text-align: right;\">\n",
       "      <th></th>\n",
       "      <th>Crime Id</th>\n",
       "      <th>Original Crime Type Name</th>\n",
       "      <th>Report Date</th>\n",
       "      <th>Call Date</th>\n",
       "      <th>Offense Date</th>\n",
       "      <th>Call Time</th>\n",
       "      <th>Call Date Time</th>\n",
       "      <th>Disposition</th>\n",
       "      <th>Address</th>\n",
       "      <th>City</th>\n",
       "      <th>State</th>\n",
       "      <th>Agency Id</th>\n",
       "      <th>Address Type</th>\n",
       "      <th>Common Location</th>\n",
       "    </tr>\n",
       "  </thead>\n",
       "  <tbody>\n",
       "    <tr>\n",
       "      <th>0</th>\n",
       "      <td>160942891</td>\n",
       "      <td>Muni Inspection</td>\n",
       "      <td>2016-04-03T00:00:00</td>\n",
       "      <td>2016-04-03T00:00:00</td>\n",
       "      <td>2016-04-03T00:00:00</td>\n",
       "      <td>18:15</td>\n",
       "      <td>2016-04-03T18:15:00</td>\n",
       "      <td>Not recorded</td>\n",
       "      <td>900 Block Of Ulloa St</td>\n",
       "      <td>San Francisco</td>\n",
       "      <td>CA</td>\n",
       "      <td>1</td>\n",
       "      <td>Common Location</td>\n",
       "      <td>West Portal Muni, Sf</td>\n",
       "    </tr>\n",
       "    <tr>\n",
       "      <th>1</th>\n",
       "      <td>160930487</td>\n",
       "      <td>913</td>\n",
       "      <td>2016-04-02T00:00:00</td>\n",
       "      <td>2016-04-02T00:00:00</td>\n",
       "      <td>2016-04-02T00:00:00</td>\n",
       "      <td>03:55</td>\n",
       "      <td>2016-04-02T03:55:00</td>\n",
       "      <td>HAN</td>\n",
       "      <td>Folsom St/13th St</td>\n",
       "      <td>San Francisco</td>\n",
       "      <td>CA</td>\n",
       "      <td>1</td>\n",
       "      <td>Intersection</td>\n",
       "      <td>NaN</td>\n",
       "    </tr>\n",
       "  </tbody>\n",
       "</table>\n",
       "</div>"
      ],
      "text/plain": [
       "    Crime Id Original Crime Type Name          Report Date  \\\n",
       "0  160942891          Muni Inspection  2016-04-03T00:00:00   \n",
       "1  160930487                      913  2016-04-02T00:00:00   \n",
       "\n",
       "             Call Date         Offense Date Call Time       Call Date Time  \\\n",
       "0  2016-04-03T00:00:00  2016-04-03T00:00:00     18:15  2016-04-03T18:15:00   \n",
       "1  2016-04-02T00:00:00  2016-04-02T00:00:00     03:55  2016-04-02T03:55:00   \n",
       "\n",
       "    Disposition                Address           City State  Agency Id  \\\n",
       "0  Not recorded  900 Block Of Ulloa St  San Francisco    CA          1   \n",
       "1           HAN      Folsom St/13th St  San Francisco    CA          1   \n",
       "\n",
       "      Address Type       Common Location  \n",
       "0  Common Location  West Portal Muni, Sf  \n",
       "1     Intersection                   NaN  "
      ]
     },
     "execution_count": 4,
     "metadata": {},
     "output_type": "execute_result"
    }
   ],
   "source": [
    "og_calls_df.head(2)"
   ]
  },
  {
   "cell_type": "code",
   "execution_count": 5,
   "metadata": {
    "scrolled": false
   },
   "outputs": [
    {
     "data": {
      "text/html": [
       "<div>\n",
       "<style scoped>\n",
       "    .dataframe tbody tr th:only-of-type {\n",
       "        vertical-align: middle;\n",
       "    }\n",
       "\n",
       "    .dataframe tbody tr th {\n",
       "        vertical-align: top;\n",
       "    }\n",
       "\n",
       "    .dataframe thead th {\n",
       "        text-align: right;\n",
       "    }\n",
       "</style>\n",
       "<table border=\"1\" class=\"dataframe\">\n",
       "  <thead>\n",
       "    <tr style=\"text-align: right;\">\n",
       "      <th></th>\n",
       "      <th>IncidntNum</th>\n",
       "      <th>Category</th>\n",
       "      <th>Descript</th>\n",
       "      <th>DayOfWeek</th>\n",
       "      <th>Date</th>\n",
       "      <th>Time</th>\n",
       "      <th>PdDistrict</th>\n",
       "      <th>Resolution</th>\n",
       "      <th>Address</th>\n",
       "      <th>X</th>\n",
       "      <th>Y</th>\n",
       "      <th>Location</th>\n",
       "      <th>PdId</th>\n",
       "    </tr>\n",
       "  </thead>\n",
       "  <tbody>\n",
       "    <tr>\n",
       "      <th>0</th>\n",
       "      <td>50436712</td>\n",
       "      <td>ASSAULT</td>\n",
       "      <td>BATTERY</td>\n",
       "      <td>Wednesday</td>\n",
       "      <td>2005-04-20T00:00:00</td>\n",
       "      <td>04:00</td>\n",
       "      <td>MISSION</td>\n",
       "      <td>NONE</td>\n",
       "      <td>18TH ST / CASTRO ST</td>\n",
       "      <td>-122.435003</td>\n",
       "      <td>37.760888</td>\n",
       "      <td>{'latitude': '37.7608878061245', 'longitude': ...</td>\n",
       "      <td>5043671204134</td>\n",
       "    </tr>\n",
       "    <tr>\n",
       "      <th>1</th>\n",
       "      <td>80049078</td>\n",
       "      <td>LARCENY/THEFT</td>\n",
       "      <td>GRAND THEFT FROM A BUILDING</td>\n",
       "      <td>Sunday</td>\n",
       "      <td>2008-01-13T00:00:00</td>\n",
       "      <td>18:00</td>\n",
       "      <td>PARK</td>\n",
       "      <td>NONE</td>\n",
       "      <td>1100 Block of CLAYTON ST</td>\n",
       "      <td>-122.446838</td>\n",
       "      <td>37.762255</td>\n",
       "      <td>{'latitude': '37.7622550270122', 'longitude': ...</td>\n",
       "      <td>8004907806304</td>\n",
       "    </tr>\n",
       "  </tbody>\n",
       "</table>\n",
       "</div>"
      ],
      "text/plain": [
       "   IncidntNum       Category                     Descript  DayOfWeek  \\\n",
       "0    50436712        ASSAULT                      BATTERY  Wednesday   \n",
       "1    80049078  LARCENY/THEFT  GRAND THEFT FROM A BUILDING     Sunday   \n",
       "\n",
       "                  Date   Time PdDistrict Resolution                   Address  \\\n",
       "0  2005-04-20T00:00:00  04:00    MISSION       NONE       18TH ST / CASTRO ST   \n",
       "1  2008-01-13T00:00:00  18:00       PARK       NONE  1100 Block of CLAYTON ST   \n",
       "\n",
       "            X          Y                                           Location  \\\n",
       "0 -122.435003  37.760888  {'latitude': '37.7608878061245', 'longitude': ...   \n",
       "1 -122.446838  37.762255  {'latitude': '37.7622550270122', 'longitude': ...   \n",
       "\n",
       "            PdId  \n",
       "0  5043671204134  \n",
       "1  8004907806304  "
      ]
     },
     "execution_count": 5,
     "metadata": {},
     "output_type": "execute_result"
    }
   ],
   "source": [
    "og_accidents_df.head(2)"
   ]
  },
  {
   "cell_type": "markdown",
   "metadata": {},
   "source": [
    "# Questions\n",
    "1. What are the most common crime types (pie chart)\n",
    "1. Where are the top common crimes reported at (heat map)\n",
    "1. throughout 24hrs, when are the call counts for each hour (historgram line chart)\n",
    "1. throughout 24hrs, where are the most calls for each location at a given hour (heat map)\n",
    "1. "
   ]
  },
  {
   "cell_type": "code",
   "execution_count": 6,
   "metadata": {},
   "outputs": [],
   "source": [
    "def drop_if_count(islessthan, columnname, dataframe):\n",
    "    hist = dataframe[columnname].value_counts()[::-1]\n",
    "    labels_to_remove = []\n",
    "    for label, count in hist.iteritems():\n",
    "        if count <= islessthan:\n",
    "            labels_to_remove.append(label)\n",
    "        else:\n",
    "            break\n",
    "\n",
    "    indexes_to_drop = dataframe.loc[dataframe[columnname].isin(labels_to_remove)].index\n",
    "    \n",
    "    return dataframe.drop(indexes_to_drop)"
   ]
  },
  {
   "cell_type": "code",
   "execution_count": 22,
   "metadata": {},
   "outputs": [],
   "source": [
    "\n",
    "# Drop Report Date\n",
    "calls_df = og_calls_df.drop(columns=['Report Date'], errors='ignore')\n",
    "\n",
    "# Rearange columns\n",
    "calls_df = calls_df[['Crime Id', 'Original Crime Type Name', 'Call Date', 'Call Time', 'Call Date Time', 'Offense Date', 'Address', 'City', 'State', 'Address Type', 'Common Location', 'Disposition', 'Agency Id']]\n",
    "\n",
    "# drop uncommon crimes that are 100 calls or less\n",
    "calls_df = drop_if_count(islessthan=100, columnname='Original Crime Type Name', dataframe=calls_df)\n",
    "\n",
    "# drop uncommon common locations that are 100 calls or less\n",
    "calls_df = drop_if_count(islessthan=100, columnname='Common Location', dataframe=calls_df)\n",
    "\n",
    "# convert dates into pd.datetime objects\n",
    "calls_df['Call Date Time'] = pd.to_datetime(calls_df['Call Date Time'])# calls_df.call_datetime.apply(to_datetime)\n",
    "\n",
    "# Give codes a title\n",
    "def refactor_codes(value):\n",
    "    if value == \"601\":\n",
    "        return \"Trespasser (201)\"\n",
    "    elif value == \"909\":\n",
    "        return \"Interview a citizen (909)\"\n",
    "    elif value.lower() == \"22500e\":\n",
    "        return \"Vehicle blocking a (22500e)\"\n",
    "    elif value == \"22500f\":\n",
    "        return \"Parking on Sidewalk (22500f)\"\n",
    "    elif value.lower() == \"rep\":\n",
    "        return \"Report (Rep)\"\n",
    "\n",
    "    return value\n",
    "        \n",
    "calls_df['Original Crime Type Name'] = calls_df['Original Crime Type Name'].apply(refactor_codes)\n",
    "\n",
    "\n",
    "\n",
    "# Rename Columns\n",
    "calls_df = calls_df.rename(columns={\n",
    "    'Crime Id': 'crime_id',\n",
    "    'Original Crime Type Name': 'original_crime_type_name',\n",
    "    'Call Date': 'call_date',\n",
    "    'Call Time': 'call_time',\n",
    "    'Call Date Time': 'call_datetime',\n",
    "    'Offense Date': 'offense_date',\n",
    "    'Address': 'address',\n",
    "    'City': 'city',\n",
    "    'State': 'state',\n",
    "    'Address Type': 'address_type',\n",
    "    'Common Location': 'common_location',\n",
    "    'Disposition': 'disposition',\n",
    "    'Agency Id': 'agency_id',\n",
    "})"
   ]
  },
  {
   "cell_type": "code",
   "execution_count": 8,
   "metadata": {},
   "outputs": [
    {
     "data": {
      "text/html": [
       "<div>\n",
       "<style scoped>\n",
       "    .dataframe tbody tr th:only-of-type {\n",
       "        vertical-align: middle;\n",
       "    }\n",
       "\n",
       "    .dataframe tbody tr th {\n",
       "        vertical-align: top;\n",
       "    }\n",
       "\n",
       "    .dataframe thead th {\n",
       "        text-align: right;\n",
       "    }\n",
       "</style>\n",
       "<table border=\"1\" class=\"dataframe\">\n",
       "  <thead>\n",
       "    <tr style=\"text-align: right;\">\n",
       "      <th></th>\n",
       "      <th>crime_id</th>\n",
       "      <th>original_crime_type_name</th>\n",
       "      <th>call_date</th>\n",
       "      <th>call_time</th>\n",
       "      <th>call_datetime</th>\n",
       "      <th>offense_date</th>\n",
       "      <th>address</th>\n",
       "      <th>city</th>\n",
       "      <th>state</th>\n",
       "      <th>address_type</th>\n",
       "      <th>common_location</th>\n",
       "      <th>disposition</th>\n",
       "      <th>agency_id</th>\n",
       "    </tr>\n",
       "  </thead>\n",
       "  <tbody>\n",
       "    <tr>\n",
       "      <th>0</th>\n",
       "      <td>160942891</td>\n",
       "      <td>Muni Inspection</td>\n",
       "      <td>2016-04-03T00:00:00</td>\n",
       "      <td>18:15</td>\n",
       "      <td>2016-04-03T18:15:00</td>\n",
       "      <td>2016-04-03T00:00:00</td>\n",
       "      <td>900 Block Of Ulloa St</td>\n",
       "      <td>San Francisco</td>\n",
       "      <td>CA</td>\n",
       "      <td>Common Location</td>\n",
       "      <td>West Portal Muni, Sf</td>\n",
       "      <td>Not recorded</td>\n",
       "      <td>1</td>\n",
       "    </tr>\n",
       "  </tbody>\n",
       "</table>\n",
       "</div>"
      ],
      "text/plain": [
       "    crime_id original_crime_type_name            call_date call_time  \\\n",
       "0  160942891          Muni Inspection  2016-04-03T00:00:00     18:15   \n",
       "\n",
       "         call_datetime         offense_date                address  \\\n",
       "0  2016-04-03T18:15:00  2016-04-03T00:00:00  900 Block Of Ulloa St   \n",
       "\n",
       "            city state     address_type       common_location   disposition  \\\n",
       "0  San Francisco    CA  Common Location  West Portal Muni, Sf  Not recorded   \n",
       "\n",
       "   agency_id  \n",
       "0          1  "
      ]
     },
     "execution_count": 8,
     "metadata": {},
     "output_type": "execute_result"
    }
   ],
   "source": [
    "calls_df.head(1)"
   ]
  },
  {
   "cell_type": "code",
   "execution_count": 9,
   "metadata": {},
   "outputs": [],
   "source": [
    "# Wrangle accidents_df"
   ]
  },
  {
   "cell_type": "markdown",
   "metadata": {},
   "source": [
    "# Findings"
   ]
  },
  {
   "cell_type": "code",
   "execution_count": 10,
   "metadata": {
    "scrolled": false
   },
   "outputs": [
    {
     "data": {
      "text/plain": [
       "Passing Call                   264470\n",
       "Traffic Stop                   216747\n",
       "Suspicious Person              108030\n",
       "Homeless Complaint             104216\n",
       "Vehicle blocking a (22500e)     79348\n",
       "Muni Inspection                 70420\n",
       "Audible Alarm                   59653\n",
       "Suspicious Vehicle              48967\n",
       "Well Being Check                48794\n",
       "Fight No Weapon                 42865\n",
       "Name: original_crime_type_name, dtype: int64"
      ]
     },
     "execution_count": 10,
     "metadata": {},
     "output_type": "execute_result"
    }
   ],
   "source": [
    "# Histogram of top 10 calls crime types\n",
    "# pd.set_option('display.max_rows', 50)\n",
    "calls_df.original_crime_type_name.value_counts().sort_values(ascending=False)[:10]#.plot(kind='pie')"
   ]
  },
  {
   "cell_type": "code",
   "execution_count": 11,
   "metadata": {},
   "outputs": [
    {
     "name": "stdout",
     "output_type": "stream",
     "text": [
      "Oldest date 2016-03-30T00:00:00. Most recent date 2018-10-06T00:00:00\n"
     ]
    }
   ],
   "source": [
    "# date range of this data\n",
    "from datetime import datetime\n",
    "\n",
    "oldest = calls_df.call_date.min()\n",
    "latest = calls_df.call_date.max()\n",
    "\n",
    "# format the date to look pretty here https://docs.python.org/3/library/datetime.html#strftime-strptime-behavior\n",
    "print(\"Oldest date {}. Most recent date {}\".format(oldest, latest))"
   ]
  },
  {
   "cell_type": "code",
   "execution_count": 12,
   "metadata": {},
   "outputs": [
    {
     "data": {
      "text/plain": [
       "Un Pz, Sf                       6627\n",
       "Haight St Corridor              5114\n",
       "One Hallidie Pz, Sf             3863\n",
       "Twin Peaks Viewpoint, Sf        3863\n",
       "Powell St Muni, Sf              3616\n",
       "Un Pz                           3305\n",
       "Embarcadero Muni Station, Sf    3199\n",
       "Twin Peaks Viewpoint            2890\n",
       "Civic Center Muni, Sf           2785\n",
       "Mission Station, Sf             2780\n",
       "Name: common_location, dtype: int64"
      ]
     },
     "execution_count": 12,
     "metadata": {},
     "output_type": "execute_result"
    }
   ],
   "source": [
    "# common locations\n",
    "calls_df.common_location.value_counts()[:10]"
   ]
  },
  {
   "cell_type": "code",
   "execution_count": 13,
   "metadata": {},
   "outputs": [],
   "source": [
    "df = calls_df.sort_values(by=['call_datetime'])"
   ]
  },
  {
   "cell_type": "code",
   "execution_count": 37,
   "metadata": {
    "collapsed": true
   },
   "outputs": [
    {
     "data": {
      "text/plain": [
       "array([ 61577.,  47143.,  40268.,  30760.,  27146.,  27645.,  45783.,\n",
       "        81709.,  95637., 102096., 101029., 102164., 109194., 105367.,\n",
       "       103085., 106117., 131606., 137843., 126344., 103392.,  82540.,\n",
       "        81046.,  93227.,  78915.])"
      ]
     },
     "metadata": {},
     "output_type": "display_data"
    },
    {
     "data": {
      "text/html": [
       "<div>\n",
       "<style scoped>\n",
       "    .dataframe tbody tr th:only-of-type {\n",
       "        vertical-align: middle;\n",
       "    }\n",
       "\n",
       "    .dataframe tbody tr th {\n",
       "        vertical-align: top;\n",
       "    }\n",
       "\n",
       "    .dataframe thead th {\n",
       "        text-align: right;\n",
       "    }\n",
       "</style>\n",
       "<table border=\"1\" class=\"dataframe\">\n",
       "  <thead>\n",
       "    <tr style=\"text-align: right;\">\n",
       "      <th></th>\n",
       "      <th>Number of Calls</th>\n",
       "    </tr>\n",
       "  </thead>\n",
       "  <tbody>\n",
       "    <tr>\n",
       "      <th>0:00</th>\n",
       "      <td>61577</td>\n",
       "    </tr>\n",
       "    <tr>\n",
       "      <th>1:00</th>\n",
       "      <td>47143</td>\n",
       "    </tr>\n",
       "    <tr>\n",
       "      <th>2:00</th>\n",
       "      <td>40268</td>\n",
       "    </tr>\n",
       "    <tr>\n",
       "      <th>3:00</th>\n",
       "      <td>30760</td>\n",
       "    </tr>\n",
       "    <tr>\n",
       "      <th>4:00</th>\n",
       "      <td>27146</td>\n",
       "    </tr>\n",
       "    <tr>\n",
       "      <th>5:00</th>\n",
       "      <td>27645</td>\n",
       "    </tr>\n",
       "    <tr>\n",
       "      <th>6:00</th>\n",
       "      <td>45783</td>\n",
       "    </tr>\n",
       "    <tr>\n",
       "      <th>7:00</th>\n",
       "      <td>81709</td>\n",
       "    </tr>\n",
       "    <tr>\n",
       "      <th>8:00</th>\n",
       "      <td>95637</td>\n",
       "    </tr>\n",
       "    <tr>\n",
       "      <th>9:00</th>\n",
       "      <td>102096</td>\n",
       "    </tr>\n",
       "    <tr>\n",
       "      <th>10:00</th>\n",
       "      <td>101029</td>\n",
       "    </tr>\n",
       "    <tr>\n",
       "      <th>11:00</th>\n",
       "      <td>102164</td>\n",
       "    </tr>\n",
       "    <tr>\n",
       "      <th>12:00</th>\n",
       "      <td>109194</td>\n",
       "    </tr>\n",
       "    <tr>\n",
       "      <th>13:00</th>\n",
       "      <td>105367</td>\n",
       "    </tr>\n",
       "    <tr>\n",
       "      <th>14:00</th>\n",
       "      <td>103085</td>\n",
       "    </tr>\n",
       "    <tr>\n",
       "      <th>15:00</th>\n",
       "      <td>106117</td>\n",
       "    </tr>\n",
       "    <tr>\n",
       "      <th>16:00</th>\n",
       "      <td>131606</td>\n",
       "    </tr>\n",
       "    <tr>\n",
       "      <th>17:00</th>\n",
       "      <td>137843</td>\n",
       "    </tr>\n",
       "    <tr>\n",
       "      <th>18:00</th>\n",
       "      <td>126344</td>\n",
       "    </tr>\n",
       "    <tr>\n",
       "      <th>19:00</th>\n",
       "      <td>103392</td>\n",
       "    </tr>\n",
       "    <tr>\n",
       "      <th>20:00</th>\n",
       "      <td>82540</td>\n",
       "    </tr>\n",
       "    <tr>\n",
       "      <th>21:00</th>\n",
       "      <td>81046</td>\n",
       "    </tr>\n",
       "    <tr>\n",
       "      <th>22:00</th>\n",
       "      <td>93227</td>\n",
       "    </tr>\n",
       "    <tr>\n",
       "      <th>23:00</th>\n",
       "      <td>78915</td>\n",
       "    </tr>\n",
       "  </tbody>\n",
       "</table>\n",
       "</div>"
      ],
      "text/plain": [
       "       Number of Calls\n",
       "0:00             61577\n",
       "1:00             47143\n",
       "2:00             40268\n",
       "3:00             30760\n",
       "4:00             27146\n",
       "5:00             27645\n",
       "6:00             45783\n",
       "7:00             81709\n",
       "8:00             95637\n",
       "9:00            102096\n",
       "10:00           101029\n",
       "11:00           102164\n",
       "12:00           109194\n",
       "13:00           105367\n",
       "14:00           103085\n",
       "15:00           106117\n",
       "16:00           131606\n",
       "17:00           137843\n",
       "18:00           126344\n",
       "19:00           103392\n",
       "20:00            82540\n",
       "21:00            81046\n",
       "22:00            93227\n",
       "23:00            78915"
      ]
     },
     "execution_count": 37,
     "metadata": {},
     "output_type": "execute_result"
    }
   ],
   "source": [
    "\n",
    "# buckets = [-np.inf, 10, 20, 30, 40, 50, 60, 70, 80, 90, np.inf]\n",
    "# labels = [\"0-10\", \"10-20\", \"20-30\", \"40-50\", \"50-60\", \"60-70\", \"70-80\", \"80-90\", \"90-100\", \"100+\"]\n",
    "\n",
    "# pd.cut(x=calls_df.call_datetime, bins=buckets, labels=labels)\n",
    "def reports_between(start_time, end_time, column, dataframe):\n",
    "    df = dataframe.set_index(column)\n",
    "    sliced = df.between_time(start_time, end_time)\n",
    "    \n",
    "    return sliced\n",
    "\n",
    "def value_counts_for(dataframe, column, title):\n",
    "    hours = [\"{}:00\".format(hour) for hour in range(24)]\n",
    "    hours.append(\"23:59\")\n",
    "    \n",
    "    hist_df = pd.DataFrame()\n",
    "    counts = np.array([])\n",
    "    \n",
    "    for i in range(len(hours) -1):\n",
    "        start_time, end_time = hours[i], hours[i +1]\n",
    "        \n",
    "        reports = reports_between(start_time, end_time, column, dataframe)\n",
    "        counts = np.append(counts, len(reports))\n",
    "        \n",
    "    display(counts)\n",
    "        \n",
    "    hist_df[title] = pd.Series(counts, dtype='int64', index=hours[:-1])\n",
    "    \n",
    "    return hist_df\n",
    "\n",
    "crime_per_hour_df = value_counts_for(calls_df, 'call_datetime', 'Number of Calls')\n",
    "crime_per_hour_df\n"
   ]
  },
  {
   "cell_type": "code",
   "execution_count": 48,
   "metadata": {},
   "outputs": [
    {
     "data": {
      "text/plain": [
       "<matplotlib.axes._subplots.AxesSubplot at 0x1a0b392ac8>"
      ]
     },
     "execution_count": 48,
     "metadata": {},
     "output_type": "execute_result"
    },
    {
     "data": {
      "image/png": "[encoded data removed]",
      "text/plain": [
       "<Figure size 432x288 with 1 Axes>"
      ]
     },
     "metadata": {},
     "output_type": "display_data"
    }
   ],
   "source": [
    "# Number of All Reports throughout the full day\n",
    "crime_per_hour_df.plot(kind='bar')"
   ]
  },
  {
   "cell_type": "code",
   "execution_count": 44,
   "metadata": {},
   "outputs": [],
   "source": [
    "# TODO: Find number of reports for the top crimes (Traffic Stop, Suspicious Person, Homeless Complaint, Vehicle blocking a (22500e), Muni Inspection)\n"
   ]
  },
  {
   "cell_type": "markdown",
   "metadata": {},
   "source": [
    "# Stats\n",
    "1. Is there a trend for a given day between 2016 and today?"
   ]
  },
  {
   "cell_type": "code",
   "execution_count": 46,
   "metadata": {},
   "outputs": [
    {
     "ename": "TypeError",
     "evalue": "ufunc 'isfinite' not supported for the input types, and the inputs could not be safely coerced to any supported types according to the casting rule ''safe''",
     "output_type": "error",
     "traceback": [
      "\u001b[0;31m---------------------------------------------------------------------------\u001b[0m",
      "\u001b[0;31mTypeError\u001b[0m                                 Traceback (most recent call last)",
      "\u001b[0;32m<ipython-input-46-cc82a3986dd5>\u001b[0m in \u001b[0;36m<module>\u001b[0;34m()\u001b[0m\n\u001b[1;32m      3\u001b[0m \u001b[0mdf\u001b[0m \u001b[0;34m=\u001b[0m \u001b[0mcalls_df\u001b[0m\u001b[0;34m.\u001b[0m\u001b[0mset_index\u001b[0m\u001b[0;34m(\u001b[0m\u001b[0;34m'call_datetime'\u001b[0m\u001b[0;34m)\u001b[0m\u001b[0;34m\u001b[0m\u001b[0m\n\u001b[1;32m      4\u001b[0m \u001b[0;34m\u001b[0m\u001b[0m\n\u001b[0;32m----> 5\u001b[0;31m \u001b[0mdecomposition\u001b[0m \u001b[0;34m=\u001b[0m \u001b[0msm\u001b[0m\u001b[0;34m.\u001b[0m\u001b[0mtsa\u001b[0m\u001b[0;34m.\u001b[0m\u001b[0mseasonal_decompose\u001b[0m\u001b[0;34m(\u001b[0m\u001b[0mdf\u001b[0m\u001b[0;34m,\u001b[0m \u001b[0mmodel\u001b[0m\u001b[0;34m=\u001b[0m\u001b[0;34m'additive'\u001b[0m\u001b[0;34m)\u001b[0m\u001b[0;34m\u001b[0m\u001b[0m\n\u001b[0m\u001b[1;32m      6\u001b[0m \u001b[0;34m\u001b[0m\u001b[0m\n\u001b[1;32m      7\u001b[0m \u001b[0mdecomposition\u001b[0m\u001b[0;34m.\u001b[0m\u001b[0mplot\u001b[0m\u001b[0;34m(\u001b[0m\u001b[0;34m)\u001b[0m\u001b[0;34m\u001b[0m\u001b[0m\n",
      "\u001b[0;32m~/anaconda3/lib/python3.6/site-packages/statsmodels/tsa/seasonal.py\u001b[0m in \u001b[0;36mseasonal_decompose\u001b[0;34m(x, model, filt, freq, two_sided, extrapolate_trend)\u001b[0m\n\u001b[1;32m    113\u001b[0m     \u001b[0mnobs\u001b[0m \u001b[0;34m=\u001b[0m \u001b[0mlen\u001b[0m\u001b[0;34m(\u001b[0m\u001b[0mx\u001b[0m\u001b[0;34m)\u001b[0m\u001b[0;34m\u001b[0m\u001b[0m\n\u001b[1;32m    114\u001b[0m \u001b[0;34m\u001b[0m\u001b[0m\n\u001b[0;32m--> 115\u001b[0;31m     \u001b[0;32mif\u001b[0m \u001b[0;32mnot\u001b[0m \u001b[0mnp\u001b[0m\u001b[0;34m.\u001b[0m\u001b[0mall\u001b[0m\u001b[0;34m(\u001b[0m\u001b[0mnp\u001b[0m\u001b[0;34m.\u001b[0m\u001b[0misfinite\u001b[0m\u001b[0;34m(\u001b[0m\u001b[0mx\u001b[0m\u001b[0;34m)\u001b[0m\u001b[0;34m)\u001b[0m\u001b[0;34m:\u001b[0m\u001b[0;34m\u001b[0m\u001b[0m\n\u001b[0m\u001b[1;32m    116\u001b[0m         \u001b[0;32mraise\u001b[0m \u001b[0mValueError\u001b[0m\u001b[0;34m(\u001b[0m\u001b[0;34m\"This function does not handle missing values\"\u001b[0m\u001b[0;34m)\u001b[0m\u001b[0;34m\u001b[0m\u001b[0m\n\u001b[1;32m    117\u001b[0m     \u001b[0;32mif\u001b[0m \u001b[0mmodel\u001b[0m\u001b[0;34m.\u001b[0m\u001b[0mstartswith\u001b[0m\u001b[0;34m(\u001b[0m\u001b[0;34m'm'\u001b[0m\u001b[0;34m)\u001b[0m\u001b[0;34m:\u001b[0m\u001b[0;34m\u001b[0m\u001b[0m\n",
      "\u001b[0;31mTypeError\u001b[0m: ufunc 'isfinite' not supported for the input types, and the inputs could not be safely coerced to any supported types according to the casting rule ''safe''"
     ]
    }
   ],
   "source": [
    "import statsmodels.api as sm\n",
    "\n",
    "# create a dataframe that contains the number of crimes for every given hour for every existing datetime\n",
    "def value_counts_for_every_hour(dateframe, column):\n",
    "    df = dateframe.set_index(column)\n",
    "\n",
    "df = value_counts_for_every_hour(calls_df, 'call_datetime')\n",
    "decomposition = sm.tsa.seasonal_decompose(df, model='additive')\n",
    "decomposition.plot()"
   ]
  },
  {
   "cell_type": "code",
   "execution_count": null,
   "metadata": {},
   "outputs": [],
   "source": []
  }
 ],
 "metadata": {
  "kernelspec": {
   "display_name": "Python 3",
   "language": "python",
   "name": "python3"
  },
  "language_info": {
   "codemirror_mode": {
    "name": "ipython",
    "version": 3
   },
   "file_extension": ".py",
   "mimetype": "text/x-python",
   "name": "python",
   "nbconvert_exporter": "python",
   "pygments_lexer": "ipython3",
   "version": "3.6.5"
  }
 },
 "nbformat": 4,
 "nbformat_minor": 2
}
